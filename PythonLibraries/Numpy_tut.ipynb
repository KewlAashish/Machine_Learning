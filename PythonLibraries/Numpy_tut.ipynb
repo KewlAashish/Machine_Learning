{
  "nbformat": 4,
  "nbformat_minor": 0,
  "metadata": {
    "colab": {
      "name": "Numpy_tut.ipynb",
      "provenance": [],
      "collapsed_sections": []
    },
    "kernelspec": {
      "name": "python3",
      "display_name": "Python 3"
    },
    "language_info": {
      "name": "python"
    }
  },
  "cells": [
    {
      "cell_type": "code",
      "metadata": {
        "id": "WkAtYoIVZTFS"
      },
      "source": [
        "import numpy as np"
      ],
      "execution_count": null,
      "outputs": []
    },
    {
      "cell_type": "markdown",
      "metadata": {
        "id": "VeLy46jfZYYZ"
      },
      "source": [
        "CREATING ARRAY USING NUMPY"
      ]
    },
    {
      "cell_type": "code",
      "metadata": {
        "colab": {
          "base_uri": "https://localhost:8080/"
        },
        "id": "E6fDfYTCZbYy",
        "outputId": "04f3a935-d456-43c9-c634-1c64dcfd0000"
      },
      "source": [
        "ordinary_list = [1,2,3,4,5]\n",
        "np.array(ordinary_list)"
      ],
      "execution_count": null,
      "outputs": [
        {
          "output_type": "execute_result",
          "data": {
            "text/plain": [
              "array([1, 2, 3, 4, 5])"
            ]
          },
          "metadata": {
            "tags": []
          },
          "execution_count": 2
        }
      ]
    },
    {
      "cell_type": "code",
      "metadata": {
        "colab": {
          "base_uri": "https://localhost:8080/"
        },
        "id": "xU6lqktMZ9Oc",
        "outputId": "72a5d801-9e71-4ae6-d22e-da255a709a56"
      },
      "source": [
        "nested_list = [[1,2],[3,4],[5,6]]\n",
        "np.array(nested_list)"
      ],
      "execution_count": null,
      "outputs": [
        {
          "output_type": "execute_result",
          "data": {
            "text/plain": [
              "array([[1, 2],\n",
              "       [3, 4],\n",
              "       [5, 6]])"
            ]
          },
          "metadata": {
            "tags": []
          },
          "execution_count": 3
        }
      ]
    },
    {
      "cell_type": "markdown",
      "metadata": {
        "id": "K9f_V-1vaMKQ"
      },
      "source": [
        "ARANGE FUNCTION"
      ]
    },
    {
      "cell_type": "code",
      "metadata": {
        "colab": {
          "base_uri": "https://localhost:8080/"
        },
        "id": "ZDUT2gxJaQMv",
        "outputId": "47c9ec9d-8651-4eeb-db61-44d016e36c72"
      },
      "source": [
        "#keeps the array elements as integers only\n",
        "print(np.arange(0,12))\n",
        "print(np.arange(0,12,3))"
      ],
      "execution_count": null,
      "outputs": [
        {
          "output_type": "stream",
          "text": [
            "[ 0  1  2  3  4  5  6  7  8  9 10 11]\n",
            "[0 3 6 9]\n"
          ],
          "name": "stdout"
        }
      ]
    },
    {
      "cell_type": "markdown",
      "metadata": {
        "id": "ZExGDxhRapI6"
      },
      "source": [
        "ZEROS AND ONES FUNCTION"
      ]
    },
    {
      "cell_type": "code",
      "metadata": {
        "colab": {
          "base_uri": "https://localhost:8080/"
        },
        "id": "vhkDBRMwar0Y",
        "outputId": "e914cc0e-42a8-4572-8fb8-16cd48c7e263"
      },
      "source": [
        "#ZEROS : creates 0 as element but in float type but it can be changed like the way done in the next block. Same apply for ones.\n",
        "print(np.zeros(3))"
      ],
      "execution_count": null,
      "outputs": [
        {
          "output_type": "stream",
          "text": [
            "[0. 0. 0.]\n"
          ],
          "name": "stdout"
        }
      ]
    },
    {
      "cell_type": "code",
      "metadata": {
        "colab": {
          "base_uri": "https://localhost:8080/"
        },
        "id": "A2gwDq5TbRmv",
        "outputId": "0f9eb8de-0fea-464b-ea15-6a7b12d7ea22"
      },
      "source": [
        "print(np.zeros((4,5), dtype= int))"
      ],
      "execution_count": null,
      "outputs": [
        {
          "output_type": "stream",
          "text": [
            "[[0 0 0 0 0]\n",
            " [0 0 0 0 0]\n",
            " [0 0 0 0 0]\n",
            " [0 0 0 0 0]]\n"
          ],
          "name": "stdout"
        }
      ]
    },
    {
      "cell_type": "code",
      "metadata": {
        "colab": {
          "base_uri": "https://localhost:8080/"
        },
        "id": "h4X227mCbnWE",
        "outputId": "46c3badc-da6a-42bb-bb71-982f024778d0"
      },
      "source": [
        "print(np.ones(5))"
      ],
      "execution_count": null,
      "outputs": [
        {
          "output_type": "stream",
          "text": [
            "[1. 1. 1. 1. 1.]\n"
          ],
          "name": "stdout"
        }
      ]
    },
    {
      "cell_type": "markdown",
      "metadata": {
        "id": "WIeNDRQcb-OA"
      },
      "source": [
        "LINSPACE FUNCTION"
      ]
    },
    {
      "cell_type": "code",
      "metadata": {
        "colab": {
          "base_uri": "https://localhost:8080/"
        },
        "id": "2Xo7_RoQcDGF",
        "outputId": "46145c74-d853-4685-cd74-a5a430960643"
      },
      "source": [
        "#THE PARAMETERS ARE STARING AND ENDING POINT AND THE NUMBER OF ELEMENTS TO BE PRESENT IN THE ARRAY\n",
        "print(np.linspace(0,10,4))"
      ],
      "execution_count": null,
      "outputs": [
        {
          "output_type": "stream",
          "text": [
            "[ 0.          3.33333333  6.66666667 10.        ]\n"
          ],
          "name": "stdout"
        }
      ]
    },
    {
      "cell_type": "markdown",
      "metadata": {
        "id": "cKSrzCY3clB4"
      },
      "source": [
        "EYE FUNCTION"
      ]
    },
    {
      "cell_type": "code",
      "metadata": {
        "colab": {
          "base_uri": "https://localhost:8080/"
        },
        "id": "02yCLdVpcnpt",
        "outputId": "92292813-d695-404e-9142-91631e051424"
      },
      "source": [
        "#CREATES A SQUARE MATRIX WITH 1 AS THE DIAGONAL ELEMENTS.\n",
        "print(np.eye(5))"
      ],
      "execution_count": null,
      "outputs": [
        {
          "output_type": "stream",
          "text": [
            "[[1. 0. 0. 0. 0.]\n",
            " [0. 1. 0. 0. 0.]\n",
            " [0. 0. 1. 0. 0.]\n",
            " [0. 0. 0. 1. 0.]\n",
            " [0. 0. 0. 0. 1.]]\n"
          ],
          "name": "stdout"
        }
      ]
    },
    {
      "cell_type": "markdown",
      "metadata": {
        "id": "33Yh94B9dIZA"
      },
      "source": [
        "RANDOM FUNCTION"
      ]
    },
    {
      "cell_type": "code",
      "metadata": {
        "colab": {
          "base_uri": "https://localhost:8080/"
        },
        "id": "VvN05v4fdKiG",
        "outputId": "eefb95ff-30ff-4afc-a547-d22a9c97f7db"
      },
      "source": [
        "#RANDOM.RAND : CREATES AN ARRAY OF RANDOM ELEMENTS WITHIN THE RANGE (0,1)\n",
        "print(np.random.rand(2))"
      ],
      "execution_count": null,
      "outputs": [
        {
          "output_type": "stream",
          "text": [
            "[0.24182132 0.85368926]\n"
          ],
          "name": "stdout"
        }
      ]
    },
    {
      "cell_type": "code",
      "metadata": {
        "colab": {
          "base_uri": "https://localhost:8080/"
        },
        "id": "JNsL-NRgdbVJ",
        "outputId": "9c8107b0-08b9-4b1b-9495-5ac3cff62f3d"
      },
      "source": [
        "print(np.random.rand(4,5))"
      ],
      "execution_count": null,
      "outputs": [
        {
          "output_type": "stream",
          "text": [
            "[[0.82088881 0.64003538 0.74686925 0.45424782 0.23721932]\n",
            " [0.91259879 0.21594095 0.28892803 0.36572921 0.81461306]\n",
            " [0.42357228 0.07533481 0.62038492 0.40554256 0.24915525]\n",
            " [0.740834   0.42699379 0.95075776 0.85767673 0.96821861]]\n"
          ],
          "name": "stdout"
        }
      ]
    },
    {
      "cell_type": "code",
      "metadata": {
        "colab": {
          "base_uri": "https://localhost:8080/"
        },
        "id": "0G_qEI-yfBeF",
        "outputId": "71c3e062-6387-4d74-c881-314724431d4d"
      },
      "source": [
        "#random.randn : creates the matrix with standard variance of 1\n",
        "print(np.random.randn(3,4))"
      ],
      "execution_count": null,
      "outputs": [
        {
          "output_type": "stream",
          "text": [
            "[[ 1.38464204  0.107744    1.23626811 -1.23536029]\n",
            " [ 0.49012306  0.55644801 -1.61721106 -0.02599342]\n",
            " [-0.0196301  -0.22564949  0.5192505   0.11811384]]\n"
          ],
          "name": "stdout"
        }
      ]
    },
    {
      "cell_type": "code",
      "metadata": {
        "colab": {
          "base_uri": "https://localhost:8080/"
        },
        "id": "_PsesTOtfT8P",
        "outputId": "d51d3bf0-0ecd-4d7a-cc18-d72d56c22070"
      },
      "source": [
        "np.random.randint(1, 100 , 10)"
      ],
      "execution_count": null,
      "outputs": [
        {
          "output_type": "execute_result",
          "data": {
            "text/plain": [
              "array([74, 92, 65, 11, 55, 91, 67, 17, 35, 22])"
            ]
          },
          "metadata": {
            "tags": []
          },
          "execution_count": 18
        }
      ]
    },
    {
      "cell_type": "code",
      "metadata": {
        "colab": {
          "base_uri": "https://localhost:8080/"
        },
        "id": "60QPHLzzfecd",
        "outputId": "2ac23b14-ed98-4ee0-b919-d9022d5be9d5"
      },
      "source": [
        "np.random.randint(1, 100 , (3,4))"
      ],
      "execution_count": null,
      "outputs": [
        {
          "output_type": "execute_result",
          "data": {
            "text/plain": [
              "array([[94, 66, 41, 41],\n",
              "       [ 3, 82, 65, 66],\n",
              "       [59, 27, 85, 92]])"
            ]
          },
          "metadata": {
            "tags": []
          },
          "execution_count": 19
        }
      ]
    },
    {
      "cell_type": "code",
      "metadata": {
        "colab": {
          "base_uri": "https://localhost:8080/"
        },
        "id": "gsWjCL4ufwVv",
        "outputId": "123acb9f-f981-4fc4-d3e2-26fa46a70803"
      },
      "source": [
        "np.random.seed(42)\n",
        "print(np.random.rand(4))\n",
        "#seed helps to create same random values like other user might be creating with the same seed value."
      ],
      "execution_count": null,
      "outputs": [
        {
          "output_type": "stream",
          "text": [
            "[0.37454012 0.95071431 0.73199394 0.59865848]\n"
          ],
          "name": "stdout"
        }
      ]
    },
    {
      "cell_type": "markdown",
      "metadata": {
        "id": "f1EE5nJ0g7Fx"
      },
      "source": [
        "RESHAPE FUNCTION"
      ]
    },
    {
      "cell_type": "code",
      "metadata": {
        "colab": {
          "base_uri": "https://localhost:8080/"
        },
        "id": "YsA65Vrng9fn",
        "outputId": "d4370f1a-6897-4fec-f52b-03ef75c91e52"
      },
      "source": [
        "a = np.linspace(0,50,25)\n",
        "print(a)"
      ],
      "execution_count": null,
      "outputs": [
        {
          "output_type": "stream",
          "text": [
            "[ 0.          2.08333333  4.16666667  6.25        8.33333333 10.41666667\n",
            " 12.5        14.58333333 16.66666667 18.75       20.83333333 22.91666667\n",
            " 25.         27.08333333 29.16666667 31.25       33.33333333 35.41666667\n",
            " 37.5        39.58333333 41.66666667 43.75       45.83333333 47.91666667\n",
            " 50.        ]\n"
          ],
          "name": "stdout"
        }
      ]
    },
    {
      "cell_type": "code",
      "metadata": {
        "colab": {
          "base_uri": "https://localhost:8080/"
        },
        "id": "-P6hhLFZhJho",
        "outputId": "bb7e33d2-5c29-43af-aa90-14b012bce998"
      },
      "source": [
        "a.shape"
      ],
      "execution_count": null,
      "outputs": [
        {
          "output_type": "execute_result",
          "data": {
            "text/plain": [
              "(25,)"
            ]
          },
          "metadata": {
            "tags": []
          },
          "execution_count": 23
        }
      ]
    },
    {
      "cell_type": "code",
      "metadata": {
        "id": "fEazUqE5hMpp"
      },
      "source": [
        "a = a.reshape(5,5)"
      ],
      "execution_count": null,
      "outputs": []
    },
    {
      "cell_type": "code",
      "metadata": {
        "colab": {
          "base_uri": "https://localhost:8080/"
        },
        "id": "ZWdeL-fuhSBI",
        "outputId": "af93a8dd-0ae5-473b-923b-ace2b7b7e455"
      },
      "source": [
        "a.max() #returns the maximum value in the array"
      ],
      "execution_count": null,
      "outputs": [
        {
          "output_type": "execute_result",
          "data": {
            "text/plain": [
              "50.0"
            ]
          },
          "metadata": {
            "tags": []
          },
          "execution_count": 26
        }
      ]
    },
    {
      "cell_type": "code",
      "metadata": {
        "colab": {
          "base_uri": "https://localhost:8080/"
        },
        "id": "r0WWH-x2hrxU",
        "outputId": "e044be61-25e5-415a-8ec4-9a77e13cb4c6"
      },
      "source": [
        "a.argmax() #return the index of the element with maximum value."
      ],
      "execution_count": null,
      "outputs": [
        {
          "output_type": "execute_result",
          "data": {
            "text/plain": [
              "24"
            ]
          },
          "metadata": {
            "tags": []
          },
          "execution_count": 27
        }
      ]
    },
    {
      "cell_type": "code",
      "metadata": {
        "colab": {
          "base_uri": "https://localhost:8080/"
        },
        "id": "J_vpqUT0h3U0",
        "outputId": "5933bf34-cfff-4f8b-e585-ac79240657a4"
      },
      "source": [
        "print(a.min())\n",
        "print(a.argmin())"
      ],
      "execution_count": null,
      "outputs": [
        {
          "output_type": "stream",
          "text": [
            "0.0\n",
            "0\n"
          ],
          "name": "stdout"
        }
      ]
    },
    {
      "cell_type": "code",
      "metadata": {
        "colab": {
          "base_uri": "https://localhost:8080/"
        },
        "id": "kbukUaHJh-2z",
        "outputId": "8eae99ab-1af5-4a65-c1f2-9e358bf847dc"
      },
      "source": [
        "print(a.shape)\n",
        "print(a.dtype)"
      ],
      "execution_count": null,
      "outputs": [
        {
          "output_type": "stream",
          "text": [
            "(5, 5)\n",
            "float64\n"
          ],
          "name": "stdout"
        }
      ]
    },
    {
      "cell_type": "markdown",
      "metadata": {
        "id": "B8fV36e2iOmm"
      },
      "source": [
        "INDEXING AND SELECTION:"
      ]
    },
    {
      "cell_type": "markdown",
      "metadata": {
        "id": "65tL6t6CiTvx"
      },
      "source": [
        "GRABBING A SINGLE ELEMENT "
      ]
    },
    {
      "cell_type": "code",
      "metadata": {
        "colab": {
          "base_uri": "https://localhost:8080/"
        },
        "id": "TJz2O-4ZiljD",
        "outputId": "636e556e-a268-459f-9521-5070cbbfeaf6"
      },
      "source": [
        "A = np.arange(0,11)\n",
        "print(A)"
      ],
      "execution_count": null,
      "outputs": [
        {
          "output_type": "stream",
          "text": [
            "[ 0  1  2  3  4  5  6  7  8  9 10]\n"
          ],
          "name": "stdout"
        }
      ]
    },
    {
      "cell_type": "code",
      "metadata": {
        "colab": {
          "base_uri": "https://localhost:8080/"
        },
        "id": "Re8U1a1oizZb",
        "outputId": "518dc144-3b76-4ca8-8ba0-0eadefaa54fa"
      },
      "source": [
        "print(A[4])"
      ],
      "execution_count": null,
      "outputs": [
        {
          "output_type": "stream",
          "text": [
            "4\n"
          ],
          "name": "stdout"
        }
      ]
    },
    {
      "cell_type": "markdown",
      "metadata": {
        "id": "2yXvIZOgiWQu"
      },
      "source": [
        "GRABBING A SLICE OF ELEMENTS"
      ]
    },
    {
      "cell_type": "code",
      "metadata": {
        "colab": {
          "base_uri": "https://localhost:8080/"
        },
        "id": "jP5MTMihi28M",
        "outputId": "b7f308e1-0eed-4ccb-f002-c60c01b4ecc3"
      },
      "source": [
        "print(A[1:])"
      ],
      "execution_count": null,
      "outputs": [
        {
          "output_type": "stream",
          "text": [
            "[ 1  2  3  4  5  6  7  8  9 10]\n"
          ],
          "name": "stdout"
        }
      ]
    },
    {
      "cell_type": "code",
      "metadata": {
        "colab": {
          "base_uri": "https://localhost:8080/"
        },
        "id": "3X9c4ae-i5tU",
        "outputId": "4c754818-ad25-4d32-f957-c45e14158a0a"
      },
      "source": [
        "A[1:4]"
      ],
      "execution_count": null,
      "outputs": [
        {
          "output_type": "execute_result",
          "data": {
            "text/plain": [
              "array([1, 2, 3])"
            ]
          },
          "metadata": {
            "tags": []
          },
          "execution_count": 34
        }
      ]
    },
    {
      "cell_type": "code",
      "metadata": {
        "colab": {
          "base_uri": "https://localhost:8080/"
        },
        "id": "xnAupd5yi8Vp",
        "outputId": "528b87b4-863e-419d-8ff8-f5b56ac35a6e"
      },
      "source": [
        "A[1:4] = 100\n",
        "print(A)\n",
        "A = np.arange(0,11)"
      ],
      "execution_count": null,
      "outputs": [
        {
          "output_type": "stream",
          "text": [
            "[  0 100 100 100   4   5   6   7   8   9  10]\n"
          ],
          "name": "stdout"
        }
      ]
    },
    {
      "cell_type": "code",
      "metadata": {
        "colab": {
          "base_uri": "https://localhost:8080/"
        },
        "id": "FO7PpX0DkDQS",
        "outputId": "6338c348-c5af-4e05-f4dc-8f7e906cec03"
      },
      "source": [
        "A[:]"
      ],
      "execution_count": null,
      "outputs": [
        {
          "output_type": "execute_result",
          "data": {
            "text/plain": [
              "array([ 0,  1,  2,  3,  4,  5,  6,  7,  8,  9, 10])"
            ]
          },
          "metadata": {
            "tags": []
          },
          "execution_count": 39
        }
      ]
    },
    {
      "cell_type": "code",
      "metadata": {
        "id": "zQXpKiDkkKot"
      },
      "source": [
        "A_copy = A.copy()"
      ],
      "execution_count": null,
      "outputs": []
    },
    {
      "cell_type": "markdown",
      "metadata": {
        "id": "GwYzbhvviZf_"
      },
      "source": [
        "BROADCASTING SELECTIONS"
      ]
    },
    {
      "cell_type": "markdown",
      "metadata": {
        "id": "7Oa2O3EiicY7"
      },
      "source": [
        "INDEXING AND SELECTION IN 2 DIMENSIONS"
      ]
    },
    {
      "cell_type": "code",
      "metadata": {
        "colab": {
          "base_uri": "https://localhost:8080/"
        },
        "id": "l6Ssrd0Jk7ud",
        "outputId": "bc8b23df-ca40-4933-d11c-491468863224"
      },
      "source": [
        "x = np.array([[5,10,15] , [20,25,30] , [35,40,45]])\n",
        "print(x)"
      ],
      "execution_count": null,
      "outputs": [
        {
          "output_type": "stream",
          "text": [
            "[[ 5 10 15]\n",
            " [20 25 30]\n",
            " [35 40 45]]\n"
          ],
          "name": "stdout"
        }
      ]
    },
    {
      "cell_type": "code",
      "metadata": {
        "colab": {
          "base_uri": "https://localhost:8080/"
        },
        "id": "zW6REKxGlOYQ",
        "outputId": "aadef488-25df-4ad4-b64b-4db42ae41775"
      },
      "source": [
        "x.shape"
      ],
      "execution_count": null,
      "outputs": [
        {
          "output_type": "execute_result",
          "data": {
            "text/plain": [
              "(3, 3)"
            ]
          },
          "metadata": {
            "tags": []
          },
          "execution_count": 42
        }
      ]
    },
    {
      "cell_type": "code",
      "metadata": {
        "colab": {
          "base_uri": "https://localhost:8080/"
        },
        "id": "q_ZO_Y97lRwe",
        "outputId": "0a1d93f4-86da-4180-d3ab-2721ddb9d32c"
      },
      "source": [
        "print(x[1,1])\n",
        "print(x[1][1])"
      ],
      "execution_count": null,
      "outputs": [
        {
          "output_type": "stream",
          "text": [
            "25\n",
            "25\n"
          ],
          "name": "stdout"
        }
      ]
    },
    {
      "cell_type": "code",
      "metadata": {
        "id": "neWeAGiVllfo",
        "colab": {
          "base_uri": "https://localhost:8080/"
        },
        "outputId": "d18af3ce-f9ea-4ed3-be3b-a406217fe909"
      },
      "source": [
        "x[0:2 , 1:]"
      ],
      "execution_count": null,
      "outputs": [
        {
          "output_type": "execute_result",
          "data": {
            "text/plain": [
              "array([[10, 15],\n",
              "       [25, 30]])"
            ]
          },
          "metadata": {
            "tags": []
          },
          "execution_count": 44
        }
      ]
    },
    {
      "cell_type": "markdown",
      "metadata": {
        "id": "ngs3Gj1gih5o"
      },
      "source": [
        "CONDITIONAL SELECTIONS"
      ]
    },
    {
      "cell_type": "code",
      "metadata": {
        "colab": {
          "base_uri": "https://localhost:8080/"
        },
        "id": "JCs7Xeihwhn5",
        "outputId": "70939a06-fb93-4951-adf9-29d21eb8250e"
      },
      "source": [
        "bool_x = x > 23\n",
        "print(bool_x)\n",
        "print(x[bool_x])"
      ],
      "execution_count": null,
      "outputs": [
        {
          "output_type": "stream",
          "text": [
            "[[False False False]\n",
            " [False  True  True]\n",
            " [ True  True  True]]\n",
            "[25 30 35 40 45]\n"
          ],
          "name": "stdout"
        }
      ]
    },
    {
      "cell_type": "markdown",
      "metadata": {
        "id": "2z5mVHDDxJeY"
      },
      "source": [
        "NUMPY OPERATIONS:"
      ]
    },
    {
      "cell_type": "code",
      "metadata": {
        "colab": {
          "base_uri": "https://localhost:8080/"
        },
        "id": "ZNVzNspPxLw2",
        "outputId": "5477d6d4-fcd0-4fbe-ff6e-397fd5428830"
      },
      "source": [
        "x+3"
      ],
      "execution_count": null,
      "outputs": [
        {
          "output_type": "execute_result",
          "data": {
            "text/plain": [
              "array([[ 8, 13, 18],\n",
              "       [23, 28, 33],\n",
              "       [38, 43, 48]])"
            ]
          },
          "metadata": {
            "tags": []
          },
          "execution_count": 48
        }
      ]
    },
    {
      "cell_type": "code",
      "metadata": {
        "colab": {
          "base_uri": "https://localhost:8080/"
        },
        "id": "nnX0gZPMx4dO",
        "outputId": "f9fcb5a0-1fb2-4bda-e7b8-251bcdab0ba9"
      },
      "source": [
        "np.sqrt(x)"
      ],
      "execution_count": null,
      "outputs": [
        {
          "output_type": "execute_result",
          "data": {
            "text/plain": [
              "array([[2.23606798, 3.16227766, 3.87298335],\n",
              "       [4.47213595, 5.        , 5.47722558],\n",
              "       [5.91607978, 6.32455532, 6.70820393]])"
            ]
          },
          "metadata": {
            "tags": []
          },
          "execution_count": 49
        }
      ]
    },
    {
      "cell_type": "code",
      "metadata": {
        "colab": {
          "base_uri": "https://localhost:8080/"
        },
        "id": "JO8hTwUUx9sN",
        "outputId": "e04114c3-d3df-4768-a52e-f014cd2e93db"
      },
      "source": [
        "np.sin(x)"
      ],
      "execution_count": null,
      "outputs": [
        {
          "output_type": "execute_result",
          "data": {
            "text/plain": [
              "array([[-0.95892427, -0.54402111,  0.65028784],\n",
              "       [ 0.91294525, -0.13235175, -0.98803162],\n",
              "       [-0.42818267,  0.74511316,  0.85090352]])"
            ]
          },
          "metadata": {
            "tags": []
          },
          "execution_count": 50
        }
      ]
    },
    {
      "cell_type": "code",
      "metadata": {
        "colab": {
          "base_uri": "https://localhost:8080/"
        },
        "id": "1aeNrebIx_zL",
        "outputId": "65ec36ff-dc22-45e6-a2fe-b8e937c3a9e7"
      },
      "source": [
        "np.log(x)"
      ],
      "execution_count": null,
      "outputs": [
        {
          "output_type": "execute_result",
          "data": {
            "text/plain": [
              "array([[1.60943791, 2.30258509, 2.7080502 ],\n",
              "       [2.99573227, 3.21887582, 3.40119738],\n",
              "       [3.55534806, 3.68887945, 3.80666249]])"
            ]
          },
          "metadata": {
            "tags": []
          },
          "execution_count": 51
        }
      ]
    }
  ]
}