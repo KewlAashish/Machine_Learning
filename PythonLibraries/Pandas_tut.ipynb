{
  "nbformat": 4,
  "nbformat_minor": 0,
  "metadata": {
    "colab": {
      "name": "Pandas_tut.ipynb",
      "provenance": [],
      "collapsed_sections": []
    },
    "kernelspec": {
      "name": "python3",
      "display_name": "Python 3"
    },
    "language_info": {
      "name": "python"
    }
  },
  "cells": [
    {
      "cell_type": "code",
      "metadata": {
        "id": "JkLnqSmY0Dvg"
      },
      "source": [
        "import pandas as pd\n",
        "import numpy as np"
      ],
      "execution_count": null,
      "outputs": []
    },
    {
      "cell_type": "markdown",
      "metadata": {
        "id": "5QUyp7uY0Od9"
      },
      "source": [
        "PANDAS SERIES"
      ]
    },
    {
      "cell_type": "code",
      "metadata": {
        "id": "PaoCKf930N1o"
      },
      "source": [
        "my_list = [10,20,30]\n",
        "labels = ['a' , 'b' , 'c']\n",
        "d = {'a' : 10 , 'b' : 20, 'c' : 30}"
      ],
      "execution_count": null,
      "outputs": []
    },
    {
      "cell_type": "code",
      "metadata": {
        "colab": {
          "base_uri": "https://localhost:8080/"
        },
        "id": "y6ZKsmEB0Zl8",
        "outputId": "d8386a92-c53f-4b74-cbdc-f1c931375f05"
      },
      "source": [
        "pd.Series(my_list , labels)"
      ],
      "execution_count": null,
      "outputs": [
        {
          "output_type": "execute_result",
          "data": {
            "text/plain": [
              "a    10\n",
              "b    20\n",
              "c    30\n",
              "dtype: int64"
            ]
          },
          "metadata": {
            "tags": []
          },
          "execution_count": 4
        }
      ]
    },
    {
      "cell_type": "code",
      "metadata": {
        "colab": {
          "base_uri": "https://localhost:8080/"
        },
        "id": "-MEsUwIQ0rxo",
        "outputId": "6f801436-1e90-47d1-c5bf-183f01ec7fdc"
      },
      "source": [
        "pd.Series(d)"
      ],
      "execution_count": null,
      "outputs": [
        {
          "output_type": "execute_result",
          "data": {
            "text/plain": [
              "a    10\n",
              "b    20\n",
              "c    30\n",
              "dtype: int64"
            ]
          },
          "metadata": {
            "tags": []
          },
          "execution_count": 5
        }
      ]
    },
    {
      "cell_type": "code",
      "metadata": {
        "colab": {
          "base_uri": "https://localhost:8080/"
        },
        "id": "pgryitkZ1PbZ",
        "outputId": "2e36c358-0a82-4e0f-f2bb-3b48939faba3"
      },
      "source": [
        "sales = pd.Series(data = [100,200,230,240] , index = [\"India\" , \"Japan\" , \"China\" , \"USA\"])\n",
        "sales"
      ],
      "execution_count": null,
      "outputs": [
        {
          "output_type": "execute_result",
          "data": {
            "text/plain": [
              "India    100\n",
              "Japan    200\n",
              "China    230\n",
              "USA      240\n",
              "dtype: int64"
            ]
          },
          "metadata": {
            "tags": []
          },
          "execution_count": 6
        }
      ]
    },
    {
      "cell_type": "code",
      "metadata": {
        "colab": {
          "base_uri": "https://localhost:8080/"
        },
        "id": "ymVCrET11gOv",
        "outputId": "e2e0a98d-3992-4da3-bc8b-d0805aaf19ff"
      },
      "source": [
        "sales[\"Japan\"]"
      ],
      "execution_count": null,
      "outputs": [
        {
          "output_type": "execute_result",
          "data": {
            "text/plain": [
              "200"
            ]
          },
          "metadata": {
            "tags": []
          },
          "execution_count": 7
        }
      ]
    },
    {
      "cell_type": "code",
      "metadata": {
        "colab": {
          "base_uri": "https://localhost:8080/"
        },
        "id": "qGgUk3aP1odD",
        "outputId": "81f8d14c-3e61-4ab9-aa8e-fa13cdf692ec"
      },
      "source": [
        "sales[0]"
      ],
      "execution_count": null,
      "outputs": [
        {
          "output_type": "execute_result",
          "data": {
            "text/plain": [
              "100"
            ]
          },
          "metadata": {
            "tags": []
          },
          "execution_count": 8
        }
      ]
    },
    {
      "cell_type": "markdown",
      "metadata": {
        "id": "BhVZP16x2n2p"
      },
      "source": [
        "DATAFRAMES"
      ]
    },
    {
      "cell_type": "code",
      "metadata": {
        "id": "KOloTLzy2p6-"
      },
      "source": [
        "columns = ['W' , 'X' , 'Y' , 'Z']\n",
        "index = ['A' , 'B' , 'C' , 'D' , 'E'] \n",
        "from numpy.random import randint\n",
        "data  = randint(-100 , 100 , (5,4))"
      ],
      "execution_count": null,
      "outputs": []
    },
    {
      "cell_type": "code",
      "metadata": {
        "colab": {
          "base_uri": "https://localhost:8080/",
          "height": 203
        },
        "id": "2k1Iquyw3KBA",
        "outputId": "9c294540-06d5-4f86-e493-e4f9b9834770"
      },
      "source": [
        "df = pd.DataFrame(data , index , columns)\n",
        "df"
      ],
      "execution_count": null,
      "outputs": [
        {
          "output_type": "execute_result",
          "data": {
            "text/html": [
              "<div>\n",
              "<style scoped>\n",
              "    .dataframe tbody tr th:only-of-type {\n",
              "        vertical-align: middle;\n",
              "    }\n",
              "\n",
              "    .dataframe tbody tr th {\n",
              "        vertical-align: top;\n",
              "    }\n",
              "\n",
              "    .dataframe thead th {\n",
              "        text-align: right;\n",
              "    }\n",
              "</style>\n",
              "<table border=\"1\" class=\"dataframe\">\n",
              "  <thead>\n",
              "    <tr style=\"text-align: right;\">\n",
              "      <th></th>\n",
              "      <th>W</th>\n",
              "      <th>X</th>\n",
              "      <th>Y</th>\n",
              "      <th>Z</th>\n",
              "    </tr>\n",
              "  </thead>\n",
              "  <tbody>\n",
              "    <tr>\n",
              "      <th>A</th>\n",
              "      <td>-8</td>\n",
              "      <td>16</td>\n",
              "      <td>-88</td>\n",
              "      <td>-11</td>\n",
              "    </tr>\n",
              "    <tr>\n",
              "      <th>B</th>\n",
              "      <td>-88</td>\n",
              "      <td>-59</td>\n",
              "      <td>-99</td>\n",
              "      <td>-57</td>\n",
              "    </tr>\n",
              "    <tr>\n",
              "      <th>C</th>\n",
              "      <td>56</td>\n",
              "      <td>-14</td>\n",
              "      <td>2</td>\n",
              "      <td>21</td>\n",
              "    </tr>\n",
              "    <tr>\n",
              "      <th>D</th>\n",
              "      <td>57</td>\n",
              "      <td>-82</td>\n",
              "      <td>36</td>\n",
              "      <td>61</td>\n",
              "    </tr>\n",
              "    <tr>\n",
              "      <th>E</th>\n",
              "      <td>-33</td>\n",
              "      <td>-90</td>\n",
              "      <td>-48</td>\n",
              "      <td>-83</td>\n",
              "    </tr>\n",
              "  </tbody>\n",
              "</table>\n",
              "</div>"
            ],
            "text/plain": [
              "    W   X   Y   Z\n",
              "A  -8  16 -88 -11\n",
              "B -88 -59 -99 -57\n",
              "C  56 -14   2  21\n",
              "D  57 -82  36  61\n",
              "E -33 -90 -48 -83"
            ]
          },
          "metadata": {
            "tags": []
          },
          "execution_count": 10
        }
      ]
    },
    {
      "cell_type": "code",
      "metadata": {
        "colab": {
          "base_uri": "https://localhost:8080/",
          "height": 203
        },
        "id": "wSCpF__p30kG",
        "outputId": "fbf3a562-82ec-483c-8344-a60519f8dead"
      },
      "source": [
        "df[[\"W\"]]"
      ],
      "execution_count": null,
      "outputs": [
        {
          "output_type": "execute_result",
          "data": {
            "text/html": [
              "<div>\n",
              "<style scoped>\n",
              "    .dataframe tbody tr th:only-of-type {\n",
              "        vertical-align: middle;\n",
              "    }\n",
              "\n",
              "    .dataframe tbody tr th {\n",
              "        vertical-align: top;\n",
              "    }\n",
              "\n",
              "    .dataframe thead th {\n",
              "        text-align: right;\n",
              "    }\n",
              "</style>\n",
              "<table border=\"1\" class=\"dataframe\">\n",
              "  <thead>\n",
              "    <tr style=\"text-align: right;\">\n",
              "      <th></th>\n",
              "      <th>W</th>\n",
              "    </tr>\n",
              "  </thead>\n",
              "  <tbody>\n",
              "    <tr>\n",
              "      <th>A</th>\n",
              "      <td>-8</td>\n",
              "    </tr>\n",
              "    <tr>\n",
              "      <th>B</th>\n",
              "      <td>-88</td>\n",
              "    </tr>\n",
              "    <tr>\n",
              "      <th>C</th>\n",
              "      <td>56</td>\n",
              "    </tr>\n",
              "    <tr>\n",
              "      <th>D</th>\n",
              "      <td>57</td>\n",
              "    </tr>\n",
              "    <tr>\n",
              "      <th>E</th>\n",
              "      <td>-33</td>\n",
              "    </tr>\n",
              "  </tbody>\n",
              "</table>\n",
              "</div>"
            ],
            "text/plain": [
              "    W\n",
              "A  -8\n",
              "B -88\n",
              "C  56\n",
              "D  57\n",
              "E -33"
            ]
          },
          "metadata": {
            "tags": []
          },
          "execution_count": 11
        }
      ]
    },
    {
      "cell_type": "code",
      "metadata": {
        "colab": {
          "base_uri": "https://localhost:8080/",
          "height": 203
        },
        "id": "VC9yDhPl36CK",
        "outputId": "2b2d3de4-9ee9-4e79-89c5-fd836739f89d"
      },
      "source": [
        "df[[\"W\" , \"Y\"]]"
      ],
      "execution_count": null,
      "outputs": [
        {
          "output_type": "execute_result",
          "data": {
            "text/html": [
              "<div>\n",
              "<style scoped>\n",
              "    .dataframe tbody tr th:only-of-type {\n",
              "        vertical-align: middle;\n",
              "    }\n",
              "\n",
              "    .dataframe tbody tr th {\n",
              "        vertical-align: top;\n",
              "    }\n",
              "\n",
              "    .dataframe thead th {\n",
              "        text-align: right;\n",
              "    }\n",
              "</style>\n",
              "<table border=\"1\" class=\"dataframe\">\n",
              "  <thead>\n",
              "    <tr style=\"text-align: right;\">\n",
              "      <th></th>\n",
              "      <th>W</th>\n",
              "      <th>Y</th>\n",
              "    </tr>\n",
              "  </thead>\n",
              "  <tbody>\n",
              "    <tr>\n",
              "      <th>A</th>\n",
              "      <td>-8</td>\n",
              "      <td>-88</td>\n",
              "    </tr>\n",
              "    <tr>\n",
              "      <th>B</th>\n",
              "      <td>-88</td>\n",
              "      <td>-99</td>\n",
              "    </tr>\n",
              "    <tr>\n",
              "      <th>C</th>\n",
              "      <td>56</td>\n",
              "      <td>2</td>\n",
              "    </tr>\n",
              "    <tr>\n",
              "      <th>D</th>\n",
              "      <td>57</td>\n",
              "      <td>36</td>\n",
              "    </tr>\n",
              "    <tr>\n",
              "      <th>E</th>\n",
              "      <td>-33</td>\n",
              "      <td>-48</td>\n",
              "    </tr>\n",
              "  </tbody>\n",
              "</table>\n",
              "</div>"
            ],
            "text/plain": [
              "    W   Y\n",
              "A  -8 -88\n",
              "B -88 -99\n",
              "C  56   2\n",
              "D  57  36\n",
              "E -33 -48"
            ]
          },
          "metadata": {
            "tags": []
          },
          "execution_count": 12
        }
      ]
    },
    {
      "cell_type": "code",
      "metadata": {
        "id": "8xlGPSG24X5e"
      },
      "source": [
        "df[\"new\"] = df[\"W\"] + df[\"Z\"]"
      ],
      "execution_count": null,
      "outputs": []
    },
    {
      "cell_type": "code",
      "metadata": {
        "colab": {
          "base_uri": "https://localhost:8080/",
          "height": 203
        },
        "id": "PtLm8ySt4foh",
        "outputId": "de3661cd-6712-4b21-fa8c-b4c3630977b4"
      },
      "source": [
        "df"
      ],
      "execution_count": null,
      "outputs": [
        {
          "output_type": "execute_result",
          "data": {
            "text/html": [
              "<div>\n",
              "<style scoped>\n",
              "    .dataframe tbody tr th:only-of-type {\n",
              "        vertical-align: middle;\n",
              "    }\n",
              "\n",
              "    .dataframe tbody tr th {\n",
              "        vertical-align: top;\n",
              "    }\n",
              "\n",
              "    .dataframe thead th {\n",
              "        text-align: right;\n",
              "    }\n",
              "</style>\n",
              "<table border=\"1\" class=\"dataframe\">\n",
              "  <thead>\n",
              "    <tr style=\"text-align: right;\">\n",
              "      <th></th>\n",
              "      <th>W</th>\n",
              "      <th>X</th>\n",
              "      <th>Y</th>\n",
              "      <th>Z</th>\n",
              "      <th>new</th>\n",
              "    </tr>\n",
              "  </thead>\n",
              "  <tbody>\n",
              "    <tr>\n",
              "      <th>A</th>\n",
              "      <td>-8</td>\n",
              "      <td>16</td>\n",
              "      <td>-88</td>\n",
              "      <td>-11</td>\n",
              "      <td>-19</td>\n",
              "    </tr>\n",
              "    <tr>\n",
              "      <th>B</th>\n",
              "      <td>-88</td>\n",
              "      <td>-59</td>\n",
              "      <td>-99</td>\n",
              "      <td>-57</td>\n",
              "      <td>-145</td>\n",
              "    </tr>\n",
              "    <tr>\n",
              "      <th>C</th>\n",
              "      <td>56</td>\n",
              "      <td>-14</td>\n",
              "      <td>2</td>\n",
              "      <td>21</td>\n",
              "      <td>77</td>\n",
              "    </tr>\n",
              "    <tr>\n",
              "      <th>D</th>\n",
              "      <td>57</td>\n",
              "      <td>-82</td>\n",
              "      <td>36</td>\n",
              "      <td>61</td>\n",
              "      <td>118</td>\n",
              "    </tr>\n",
              "    <tr>\n",
              "      <th>E</th>\n",
              "      <td>-33</td>\n",
              "      <td>-90</td>\n",
              "      <td>-48</td>\n",
              "      <td>-83</td>\n",
              "      <td>-116</td>\n",
              "    </tr>\n",
              "  </tbody>\n",
              "</table>\n",
              "</div>"
            ],
            "text/plain": [
              "    W   X   Y   Z  new\n",
              "A  -8  16 -88 -11  -19\n",
              "B -88 -59 -99 -57 -145\n",
              "C  56 -14   2  21   77\n",
              "D  57 -82  36  61  118\n",
              "E -33 -90 -48 -83 -116"
            ]
          },
          "metadata": {
            "tags": []
          },
          "execution_count": 14
        }
      ]
    },
    {
      "cell_type": "code",
      "metadata": {
        "id": "2jiEdNay4hNP"
      },
      "source": [
        "df = df.drop(\"new\" , axis = 1)"
      ],
      "execution_count": null,
      "outputs": []
    },
    {
      "cell_type": "markdown",
      "metadata": {
        "id": "R2ii0u4ypW72"
      },
      "source": [
        "LOC FUNCTION"
      ]
    },
    {
      "cell_type": "code",
      "metadata": {
        "colab": {
          "base_uri": "https://localhost:8080/"
        },
        "id": "owDSQp6opYrl",
        "outputId": "b19ddfcc-08ac-4181-da95-61be13a91188"
      },
      "source": [
        "df.loc[\"A\"]"
      ],
      "execution_count": null,
      "outputs": [
        {
          "output_type": "execute_result",
          "data": {
            "text/plain": [
              "W    -8\n",
              "X    16\n",
              "Y   -88\n",
              "Z   -11\n",
              "Name: A, dtype: int64"
            ]
          },
          "metadata": {
            "tags": []
          },
          "execution_count": 22
        }
      ]
    },
    {
      "cell_type": "code",
      "metadata": {
        "colab": {
          "base_uri": "https://localhost:8080/",
          "height": 110
        },
        "id": "mr1TVNadpuqL",
        "outputId": "568a18ed-4e56-46c9-fd89-23a33cabb25e"
      },
      "source": [
        "df.loc[[\"A\" , \"E\"]]"
      ],
      "execution_count": null,
      "outputs": [
        {
          "output_type": "execute_result",
          "data": {
            "text/html": [
              "<div>\n",
              "<style scoped>\n",
              "    .dataframe tbody tr th:only-of-type {\n",
              "        vertical-align: middle;\n",
              "    }\n",
              "\n",
              "    .dataframe tbody tr th {\n",
              "        vertical-align: top;\n",
              "    }\n",
              "\n",
              "    .dataframe thead th {\n",
              "        text-align: right;\n",
              "    }\n",
              "</style>\n",
              "<table border=\"1\" class=\"dataframe\">\n",
              "  <thead>\n",
              "    <tr style=\"text-align: right;\">\n",
              "      <th></th>\n",
              "      <th>W</th>\n",
              "      <th>X</th>\n",
              "      <th>Y</th>\n",
              "      <th>Z</th>\n",
              "    </tr>\n",
              "  </thead>\n",
              "  <tbody>\n",
              "    <tr>\n",
              "      <th>A</th>\n",
              "      <td>-8</td>\n",
              "      <td>16</td>\n",
              "      <td>-88</td>\n",
              "      <td>-11</td>\n",
              "    </tr>\n",
              "    <tr>\n",
              "      <th>E</th>\n",
              "      <td>-33</td>\n",
              "      <td>-90</td>\n",
              "      <td>-48</td>\n",
              "      <td>-83</td>\n",
              "    </tr>\n",
              "  </tbody>\n",
              "</table>\n",
              "</div>"
            ],
            "text/plain": [
              "    W   X   Y   Z\n",
              "A  -8  16 -88 -11\n",
              "E -33 -90 -48 -83"
            ]
          },
          "metadata": {
            "tags": []
          },
          "execution_count": 23
        }
      ]
    },
    {
      "cell_type": "code",
      "metadata": {
        "id": "9FRaaAGxp3md"
      },
      "source": [
        "ILOC FUNCTION: CALLING THE ROWS USING THE INTEGER INDEX VALUES."
      ],
      "execution_count": null,
      "outputs": []
    },
    {
      "cell_type": "code",
      "metadata": {
        "colab": {
          "base_uri": "https://localhost:8080/"
        },
        "id": "XIZIroQwp9qr",
        "outputId": "1db785ed-e538-4bcf-b395-3152b7666fbb"
      },
      "source": [
        "df.iloc[0]"
      ],
      "execution_count": null,
      "outputs": [
        {
          "output_type": "execute_result",
          "data": {
            "text/plain": [
              "W    -8\n",
              "X    16\n",
              "Y   -88\n",
              "Z   -11\n",
              "Name: A, dtype: int64"
            ]
          },
          "metadata": {
            "tags": []
          },
          "execution_count": 24
        }
      ]
    },
    {
      "cell_type": "code",
      "metadata": {
        "colab": {
          "base_uri": "https://localhost:8080/",
          "height": 203
        },
        "id": "JE-k2lpBscDn",
        "outputId": "7a32504f-1a58-49c7-fa48-11ddd7c09a22"
      },
      "source": [
        "df.reset_index()"
      ],
      "execution_count": null,
      "outputs": [
        {
          "output_type": "execute_result",
          "data": {
            "text/html": [
              "<div>\n",
              "<style scoped>\n",
              "    .dataframe tbody tr th:only-of-type {\n",
              "        vertical-align: middle;\n",
              "    }\n",
              "\n",
              "    .dataframe tbody tr th {\n",
              "        vertical-align: top;\n",
              "    }\n",
              "\n",
              "    .dataframe thead th {\n",
              "        text-align: right;\n",
              "    }\n",
              "</style>\n",
              "<table border=\"1\" class=\"dataframe\">\n",
              "  <thead>\n",
              "    <tr style=\"text-align: right;\">\n",
              "      <th></th>\n",
              "      <th>index</th>\n",
              "      <th>W</th>\n",
              "      <th>X</th>\n",
              "      <th>Y</th>\n",
              "      <th>Z</th>\n",
              "    </tr>\n",
              "  </thead>\n",
              "  <tbody>\n",
              "    <tr>\n",
              "      <th>0</th>\n",
              "      <td>A</td>\n",
              "      <td>-8</td>\n",
              "      <td>16</td>\n",
              "      <td>-88</td>\n",
              "      <td>-11</td>\n",
              "    </tr>\n",
              "    <tr>\n",
              "      <th>1</th>\n",
              "      <td>B</td>\n",
              "      <td>-88</td>\n",
              "      <td>-59</td>\n",
              "      <td>-99</td>\n",
              "      <td>-57</td>\n",
              "    </tr>\n",
              "    <tr>\n",
              "      <th>2</th>\n",
              "      <td>C</td>\n",
              "      <td>56</td>\n",
              "      <td>-14</td>\n",
              "      <td>2</td>\n",
              "      <td>21</td>\n",
              "    </tr>\n",
              "    <tr>\n",
              "      <th>3</th>\n",
              "      <td>D</td>\n",
              "      <td>57</td>\n",
              "      <td>-82</td>\n",
              "      <td>36</td>\n",
              "      <td>61</td>\n",
              "    </tr>\n",
              "    <tr>\n",
              "      <th>4</th>\n",
              "      <td>E</td>\n",
              "      <td>-33</td>\n",
              "      <td>-90</td>\n",
              "      <td>-48</td>\n",
              "      <td>-83</td>\n",
              "    </tr>\n",
              "  </tbody>\n",
              "</table>\n",
              "</div>"
            ],
            "text/plain": [
              "  index   W   X   Y   Z\n",
              "0     A  -8  16 -88 -11\n",
              "1     B -88 -59 -99 -57\n",
              "2     C  56 -14   2  21\n",
              "3     D  57 -82  36  61\n",
              "4     E -33 -90 -48 -83"
            ]
          },
          "metadata": {
            "tags": []
          },
          "execution_count": 25
        }
      ]
    },
    {
      "cell_type": "code",
      "metadata": {
        "colab": {
          "base_uri": "https://localhost:8080/",
          "height": 234
        },
        "id": "dsAbqoRIs2Sa",
        "outputId": "070b5452-216b-4dab-ffa4-61ffda2bc311"
      },
      "source": [
        "df.set_index(\"W\")"
      ],
      "execution_count": null,
      "outputs": [
        {
          "output_type": "execute_result",
          "data": {
            "text/html": [
              "<div>\n",
              "<style scoped>\n",
              "    .dataframe tbody tr th:only-of-type {\n",
              "        vertical-align: middle;\n",
              "    }\n",
              "\n",
              "    .dataframe tbody tr th {\n",
              "        vertical-align: top;\n",
              "    }\n",
              "\n",
              "    .dataframe thead th {\n",
              "        text-align: right;\n",
              "    }\n",
              "</style>\n",
              "<table border=\"1\" class=\"dataframe\">\n",
              "  <thead>\n",
              "    <tr style=\"text-align: right;\">\n",
              "      <th></th>\n",
              "      <th>X</th>\n",
              "      <th>Y</th>\n",
              "      <th>Z</th>\n",
              "    </tr>\n",
              "    <tr>\n",
              "      <th>W</th>\n",
              "      <th></th>\n",
              "      <th></th>\n",
              "      <th></th>\n",
              "    </tr>\n",
              "  </thead>\n",
              "  <tbody>\n",
              "    <tr>\n",
              "      <th>-8</th>\n",
              "      <td>16</td>\n",
              "      <td>-88</td>\n",
              "      <td>-11</td>\n",
              "    </tr>\n",
              "    <tr>\n",
              "      <th>-88</th>\n",
              "      <td>-59</td>\n",
              "      <td>-99</td>\n",
              "      <td>-57</td>\n",
              "    </tr>\n",
              "    <tr>\n",
              "      <th>56</th>\n",
              "      <td>-14</td>\n",
              "      <td>2</td>\n",
              "      <td>21</td>\n",
              "    </tr>\n",
              "    <tr>\n",
              "      <th>57</th>\n",
              "      <td>-82</td>\n",
              "      <td>36</td>\n",
              "      <td>61</td>\n",
              "    </tr>\n",
              "    <tr>\n",
              "      <th>-33</th>\n",
              "      <td>-90</td>\n",
              "      <td>-48</td>\n",
              "      <td>-83</td>\n",
              "    </tr>\n",
              "  </tbody>\n",
              "</table>\n",
              "</div>"
            ],
            "text/plain": [
              "      X   Y   Z\n",
              "W              \n",
              "-8   16 -88 -11\n",
              "-88 -59 -99 -57\n",
              " 56 -14   2  21\n",
              " 57 -82  36  61\n",
              "-33 -90 -48 -83"
            ]
          },
          "metadata": {
            "tags": []
          },
          "execution_count": 26
        }
      ]
    },
    {
      "cell_type": "code",
      "metadata": {
        "colab": {
          "base_uri": "https://localhost:8080/",
          "height": 295
        },
        "id": "UIDm4TdctGc_",
        "outputId": "41e9c0e0-3199-42d6-a4cb-ca88b56b3baa"
      },
      "source": [
        "df.describe()"
      ],
      "execution_count": null,
      "outputs": [
        {
          "output_type": "execute_result",
          "data": {
            "text/html": [
              "<div>\n",
              "<style scoped>\n",
              "    .dataframe tbody tr th:only-of-type {\n",
              "        vertical-align: middle;\n",
              "    }\n",
              "\n",
              "    .dataframe tbody tr th {\n",
              "        vertical-align: top;\n",
              "    }\n",
              "\n",
              "    .dataframe thead th {\n",
              "        text-align: right;\n",
              "    }\n",
              "</style>\n",
              "<table border=\"1\" class=\"dataframe\">\n",
              "  <thead>\n",
              "    <tr style=\"text-align: right;\">\n",
              "      <th></th>\n",
              "      <th>W</th>\n",
              "      <th>X</th>\n",
              "      <th>Y</th>\n",
              "      <th>Z</th>\n",
              "    </tr>\n",
              "  </thead>\n",
              "  <tbody>\n",
              "    <tr>\n",
              "      <th>count</th>\n",
              "      <td>5.000000</td>\n",
              "      <td>5.000000</td>\n",
              "      <td>5.000000</td>\n",
              "      <td>5.00000</td>\n",
              "    </tr>\n",
              "    <tr>\n",
              "      <th>mean</th>\n",
              "      <td>-3.200000</td>\n",
              "      <td>-45.800000</td>\n",
              "      <td>-39.400000</td>\n",
              "      <td>-13.80000</td>\n",
              "    </tr>\n",
              "    <tr>\n",
              "      <th>std</th>\n",
              "      <td>61.706564</td>\n",
              "      <td>45.466471</td>\n",
              "      <td>57.851534</td>\n",
              "      <td>58.02758</td>\n",
              "    </tr>\n",
              "    <tr>\n",
              "      <th>min</th>\n",
              "      <td>-88.000000</td>\n",
              "      <td>-90.000000</td>\n",
              "      <td>-99.000000</td>\n",
              "      <td>-83.00000</td>\n",
              "    </tr>\n",
              "    <tr>\n",
              "      <th>25%</th>\n",
              "      <td>-33.000000</td>\n",
              "      <td>-82.000000</td>\n",
              "      <td>-88.000000</td>\n",
              "      <td>-57.00000</td>\n",
              "    </tr>\n",
              "    <tr>\n",
              "      <th>50%</th>\n",
              "      <td>-8.000000</td>\n",
              "      <td>-59.000000</td>\n",
              "      <td>-48.000000</td>\n",
              "      <td>-11.00000</td>\n",
              "    </tr>\n",
              "    <tr>\n",
              "      <th>75%</th>\n",
              "      <td>56.000000</td>\n",
              "      <td>-14.000000</td>\n",
              "      <td>2.000000</td>\n",
              "      <td>21.00000</td>\n",
              "    </tr>\n",
              "    <tr>\n",
              "      <th>max</th>\n",
              "      <td>57.000000</td>\n",
              "      <td>16.000000</td>\n",
              "      <td>36.000000</td>\n",
              "      <td>61.00000</td>\n",
              "    </tr>\n",
              "  </tbody>\n",
              "</table>\n",
              "</div>"
            ],
            "text/plain": [
              "               W          X          Y         Z\n",
              "count   5.000000   5.000000   5.000000   5.00000\n",
              "mean   -3.200000 -45.800000 -39.400000 -13.80000\n",
              "std    61.706564  45.466471  57.851534  58.02758\n",
              "min   -88.000000 -90.000000 -99.000000 -83.00000\n",
              "25%   -33.000000 -82.000000 -88.000000 -57.00000\n",
              "50%    -8.000000 -59.000000 -48.000000 -11.00000\n",
              "75%    56.000000 -14.000000   2.000000  21.00000\n",
              "max    57.000000  16.000000  36.000000  61.00000"
            ]
          },
          "metadata": {
            "tags": []
          },
          "execution_count": 27
        }
      ]
    },
    {
      "cell_type": "code",
      "metadata": {
        "colab": {
          "base_uri": "https://localhost:8080/"
        },
        "id": "Gzxg-gQGtQp5",
        "outputId": "b0d4e07f-7028-4461-8de7-17fff143979b"
      },
      "source": [
        "df.info()"
      ],
      "execution_count": null,
      "outputs": [
        {
          "output_type": "stream",
          "text": [
            "<class 'pandas.core.frame.DataFrame'>\n",
            "Index: 5 entries, A to E\n",
            "Data columns (total 4 columns):\n",
            " #   Column  Non-Null Count  Dtype\n",
            "---  ------  --------------  -----\n",
            " 0   W       5 non-null      int64\n",
            " 1   X       5 non-null      int64\n",
            " 2   Y       5 non-null      int64\n",
            " 3   Z       5 non-null      int64\n",
            "dtypes: int64(4)\n",
            "memory usage: 360.0+ bytes\n"
          ],
          "name": "stdout"
        }
      ]
    },
    {
      "cell_type": "code",
      "metadata": {
        "colab": {
          "base_uri": "https://localhost:8080/"
        },
        "id": "Upxk_hU7tT8j",
        "outputId": "742619f9-c5b7-45a7-8b81-e7798637be89"
      },
      "source": [
        "df.dtypes"
      ],
      "execution_count": null,
      "outputs": [
        {
          "output_type": "execute_result",
          "data": {
            "text/plain": [
              "W    int64\n",
              "X    int64\n",
              "Y    int64\n",
              "Z    int64\n",
              "dtype: object"
            ]
          },
          "metadata": {
            "tags": []
          },
          "execution_count": 30
        }
      ]
    },
    {
      "cell_type": "markdown",
      "metadata": {
        "id": "GR8H8YKmuE4F"
      },
      "source": [
        "DEALING WITH THE MISSING DATA USING PANDAS"
      ]
    },
    {
      "cell_type": "code",
      "metadata": {
        "id": "_shI-Fc9uIzk"
      },
      "source": [
        "df = pd.DataFrame({\"A\" : [1 , 2 , np.nan , 4],\n",
        "                   \"B\" : [5 , np.nan , np.nan , 8],\n",
        "                   \"C\" : [10 , 20 , 30 , 40]})"
      ],
      "execution_count": null,
      "outputs": []
    },
    {
      "cell_type": "code",
      "metadata": {
        "colab": {
          "base_uri": "https://localhost:8080/",
          "height": 172
        },
        "id": "n2OpLjj1urJ4",
        "outputId": "51934b3c-e30e-4394-8c74-7b2477206f00"
      },
      "source": [
        "df"
      ],
      "execution_count": null,
      "outputs": [
        {
          "output_type": "execute_result",
          "data": {
            "text/html": [
              "<div>\n",
              "<style scoped>\n",
              "    .dataframe tbody tr th:only-of-type {\n",
              "        vertical-align: middle;\n",
              "    }\n",
              "\n",
              "    .dataframe tbody tr th {\n",
              "        vertical-align: top;\n",
              "    }\n",
              "\n",
              "    .dataframe thead th {\n",
              "        text-align: right;\n",
              "    }\n",
              "</style>\n",
              "<table border=\"1\" class=\"dataframe\">\n",
              "  <thead>\n",
              "    <tr style=\"text-align: right;\">\n",
              "      <th></th>\n",
              "      <th>A</th>\n",
              "      <th>B</th>\n",
              "      <th>C</th>\n",
              "    </tr>\n",
              "  </thead>\n",
              "  <tbody>\n",
              "    <tr>\n",
              "      <th>0</th>\n",
              "      <td>1.0</td>\n",
              "      <td>5.0</td>\n",
              "      <td>10</td>\n",
              "    </tr>\n",
              "    <tr>\n",
              "      <th>1</th>\n",
              "      <td>2.0</td>\n",
              "      <td>NaN</td>\n",
              "      <td>20</td>\n",
              "    </tr>\n",
              "    <tr>\n",
              "      <th>2</th>\n",
              "      <td>NaN</td>\n",
              "      <td>NaN</td>\n",
              "      <td>30</td>\n",
              "    </tr>\n",
              "    <tr>\n",
              "      <th>3</th>\n",
              "      <td>4.0</td>\n",
              "      <td>8.0</td>\n",
              "      <td>40</td>\n",
              "    </tr>\n",
              "  </tbody>\n",
              "</table>\n",
              "</div>"
            ],
            "text/plain": [
              "     A    B   C\n",
              "0  1.0  5.0  10\n",
              "1  2.0  NaN  20\n",
              "2  NaN  NaN  30\n",
              "3  4.0  8.0  40"
            ]
          },
          "metadata": {
            "tags": []
          },
          "execution_count": 34
        }
      ]
    },
    {
      "cell_type": "code",
      "metadata": {
        "colab": {
          "base_uri": "https://localhost:8080/",
          "height": 172
        },
        "id": "l4ssRIMiu9Sn",
        "outputId": "ee4a425c-92ba-4bf5-8a2c-60570d9458b9"
      },
      "source": [
        "df.dropna(axis = 1)"
      ],
      "execution_count": null,
      "outputs": [
        {
          "output_type": "execute_result",
          "data": {
            "text/html": [
              "<div>\n",
              "<style scoped>\n",
              "    .dataframe tbody tr th:only-of-type {\n",
              "        vertical-align: middle;\n",
              "    }\n",
              "\n",
              "    .dataframe tbody tr th {\n",
              "        vertical-align: top;\n",
              "    }\n",
              "\n",
              "    .dataframe thead th {\n",
              "        text-align: right;\n",
              "    }\n",
              "</style>\n",
              "<table border=\"1\" class=\"dataframe\">\n",
              "  <thead>\n",
              "    <tr style=\"text-align: right;\">\n",
              "      <th></th>\n",
              "      <th>C</th>\n",
              "    </tr>\n",
              "  </thead>\n",
              "  <tbody>\n",
              "    <tr>\n",
              "      <th>0</th>\n",
              "      <td>10</td>\n",
              "    </tr>\n",
              "    <tr>\n",
              "      <th>1</th>\n",
              "      <td>20</td>\n",
              "    </tr>\n",
              "    <tr>\n",
              "      <th>2</th>\n",
              "      <td>30</td>\n",
              "    </tr>\n",
              "    <tr>\n",
              "      <th>3</th>\n",
              "      <td>40</td>\n",
              "    </tr>\n",
              "  </tbody>\n",
              "</table>\n",
              "</div>"
            ],
            "text/plain": [
              "    C\n",
              "0  10\n",
              "1  20\n",
              "2  30\n",
              "3  40"
            ]
          },
          "metadata": {
            "tags": []
          },
          "execution_count": 36
        }
      ]
    },
    {
      "cell_type": "code",
      "metadata": {
        "colab": {
          "base_uri": "https://localhost:8080/",
          "height": 110
        },
        "id": "ydUvwzrZvEVb",
        "outputId": "f143a770-5376-435a-bc14-40943819af49"
      },
      "source": [
        "df.dropna()"
      ],
      "execution_count": null,
      "outputs": [
        {
          "output_type": "execute_result",
          "data": {
            "text/html": [
              "<div>\n",
              "<style scoped>\n",
              "    .dataframe tbody tr th:only-of-type {\n",
              "        vertical-align: middle;\n",
              "    }\n",
              "\n",
              "    .dataframe tbody tr th {\n",
              "        vertical-align: top;\n",
              "    }\n",
              "\n",
              "    .dataframe thead th {\n",
              "        text-align: right;\n",
              "    }\n",
              "</style>\n",
              "<table border=\"1\" class=\"dataframe\">\n",
              "  <thead>\n",
              "    <tr style=\"text-align: right;\">\n",
              "      <th></th>\n",
              "      <th>A</th>\n",
              "      <th>B</th>\n",
              "      <th>C</th>\n",
              "    </tr>\n",
              "  </thead>\n",
              "  <tbody>\n",
              "    <tr>\n",
              "      <th>0</th>\n",
              "      <td>1.0</td>\n",
              "      <td>5.0</td>\n",
              "      <td>10</td>\n",
              "    </tr>\n",
              "    <tr>\n",
              "      <th>3</th>\n",
              "      <td>4.0</td>\n",
              "      <td>8.0</td>\n",
              "      <td>40</td>\n",
              "    </tr>\n",
              "  </tbody>\n",
              "</table>\n",
              "</div>"
            ],
            "text/plain": [
              "     A    B   C\n",
              "0  1.0  5.0  10\n",
              "3  4.0  8.0  40"
            ]
          },
          "metadata": {
            "tags": []
          },
          "execution_count": 37
        }
      ]
    },
    {
      "cell_type": "code",
      "metadata": {
        "colab": {
          "base_uri": "https://localhost:8080/",
          "height": 172
        },
        "id": "gLgg3neYvL8q",
        "outputId": "f9787094-3573-45f7-b8f9-33446785c172"
      },
      "source": [
        "df.dropna(axis = 1,thresh = 2)"
      ],
      "execution_count": null,
      "outputs": [
        {
          "output_type": "execute_result",
          "data": {
            "text/html": [
              "<div>\n",
              "<style scoped>\n",
              "    .dataframe tbody tr th:only-of-type {\n",
              "        vertical-align: middle;\n",
              "    }\n",
              "\n",
              "    .dataframe tbody tr th {\n",
              "        vertical-align: top;\n",
              "    }\n",
              "\n",
              "    .dataframe thead th {\n",
              "        text-align: right;\n",
              "    }\n",
              "</style>\n",
              "<table border=\"1\" class=\"dataframe\">\n",
              "  <thead>\n",
              "    <tr style=\"text-align: right;\">\n",
              "      <th></th>\n",
              "      <th>A</th>\n",
              "      <th>B</th>\n",
              "      <th>C</th>\n",
              "    </tr>\n",
              "  </thead>\n",
              "  <tbody>\n",
              "    <tr>\n",
              "      <th>0</th>\n",
              "      <td>1.0</td>\n",
              "      <td>5.0</td>\n",
              "      <td>10</td>\n",
              "    </tr>\n",
              "    <tr>\n",
              "      <th>1</th>\n",
              "      <td>2.0</td>\n",
              "      <td>NaN</td>\n",
              "      <td>20</td>\n",
              "    </tr>\n",
              "    <tr>\n",
              "      <th>2</th>\n",
              "      <td>NaN</td>\n",
              "      <td>NaN</td>\n",
              "      <td>30</td>\n",
              "    </tr>\n",
              "    <tr>\n",
              "      <th>3</th>\n",
              "      <td>4.0</td>\n",
              "      <td>8.0</td>\n",
              "      <td>40</td>\n",
              "    </tr>\n",
              "  </tbody>\n",
              "</table>\n",
              "</div>"
            ],
            "text/plain": [
              "     A    B   C\n",
              "0  1.0  5.0  10\n",
              "1  2.0  NaN  20\n",
              "2  NaN  NaN  30\n",
              "3  4.0  8.0  40"
            ]
          },
          "metadata": {
            "tags": []
          },
          "execution_count": 38
        }
      ]
    },
    {
      "cell_type": "code",
      "metadata": {
        "colab": {
          "base_uri": "https://localhost:8080/",
          "height": 172
        },
        "id": "XXKgUgitvSZP",
        "outputId": "c58ea523-5675-4936-db2b-cbe85819e911"
      },
      "source": [
        "df.dropna(axis = 1,thresh = 3)"
      ],
      "execution_count": null,
      "outputs": [
        {
          "output_type": "execute_result",
          "data": {
            "text/html": [
              "<div>\n",
              "<style scoped>\n",
              "    .dataframe tbody tr th:only-of-type {\n",
              "        vertical-align: middle;\n",
              "    }\n",
              "\n",
              "    .dataframe tbody tr th {\n",
              "        vertical-align: top;\n",
              "    }\n",
              "\n",
              "    .dataframe thead th {\n",
              "        text-align: right;\n",
              "    }\n",
              "</style>\n",
              "<table border=\"1\" class=\"dataframe\">\n",
              "  <thead>\n",
              "    <tr style=\"text-align: right;\">\n",
              "      <th></th>\n",
              "      <th>A</th>\n",
              "      <th>C</th>\n",
              "    </tr>\n",
              "  </thead>\n",
              "  <tbody>\n",
              "    <tr>\n",
              "      <th>0</th>\n",
              "      <td>1.0</td>\n",
              "      <td>10</td>\n",
              "    </tr>\n",
              "    <tr>\n",
              "      <th>1</th>\n",
              "      <td>2.0</td>\n",
              "      <td>20</td>\n",
              "    </tr>\n",
              "    <tr>\n",
              "      <th>2</th>\n",
              "      <td>NaN</td>\n",
              "      <td>30</td>\n",
              "    </tr>\n",
              "    <tr>\n",
              "      <th>3</th>\n",
              "      <td>4.0</td>\n",
              "      <td>40</td>\n",
              "    </tr>\n",
              "  </tbody>\n",
              "</table>\n",
              "</div>"
            ],
            "text/plain": [
              "     A   C\n",
              "0  1.0  10\n",
              "1  2.0  20\n",
              "2  NaN  30\n",
              "3  4.0  40"
            ]
          },
          "metadata": {
            "tags": []
          },
          "execution_count": 39
        }
      ]
    },
    {
      "cell_type": "markdown",
      "metadata": {
        "id": "BEovpzfNvki8"
      },
      "source": [
        "FILLING THE MISSING VALUES"
      ]
    },
    {
      "cell_type": "code",
      "metadata": {
        "colab": {
          "base_uri": "https://localhost:8080/",
          "height": 172
        },
        "id": "5JNSbjVfvnFW",
        "outputId": "4ec07b7d-1687-434a-e526-b8499c021de0"
      },
      "source": [
        "df.fillna(value = \"any_value\")"
      ],
      "execution_count": null,
      "outputs": [
        {
          "output_type": "execute_result",
          "data": {
            "text/html": [
              "<div>\n",
              "<style scoped>\n",
              "    .dataframe tbody tr th:only-of-type {\n",
              "        vertical-align: middle;\n",
              "    }\n",
              "\n",
              "    .dataframe tbody tr th {\n",
              "        vertical-align: top;\n",
              "    }\n",
              "\n",
              "    .dataframe thead th {\n",
              "        text-align: right;\n",
              "    }\n",
              "</style>\n",
              "<table border=\"1\" class=\"dataframe\">\n",
              "  <thead>\n",
              "    <tr style=\"text-align: right;\">\n",
              "      <th></th>\n",
              "      <th>A</th>\n",
              "      <th>B</th>\n",
              "      <th>C</th>\n",
              "    </tr>\n",
              "  </thead>\n",
              "  <tbody>\n",
              "    <tr>\n",
              "      <th>0</th>\n",
              "      <td>1</td>\n",
              "      <td>5</td>\n",
              "      <td>10</td>\n",
              "    </tr>\n",
              "    <tr>\n",
              "      <th>1</th>\n",
              "      <td>2</td>\n",
              "      <td>any_value</td>\n",
              "      <td>20</td>\n",
              "    </tr>\n",
              "    <tr>\n",
              "      <th>2</th>\n",
              "      <td>any_value</td>\n",
              "      <td>any_value</td>\n",
              "      <td>30</td>\n",
              "    </tr>\n",
              "    <tr>\n",
              "      <th>3</th>\n",
              "      <td>4</td>\n",
              "      <td>8</td>\n",
              "      <td>40</td>\n",
              "    </tr>\n",
              "  </tbody>\n",
              "</table>\n",
              "</div>"
            ],
            "text/plain": [
              "           A          B   C\n",
              "0          1          5  10\n",
              "1          2  any_value  20\n",
              "2  any_value  any_value  30\n",
              "3          4          8  40"
            ]
          },
          "metadata": {
            "tags": []
          },
          "execution_count": 41
        }
      ]
    },
    {
      "cell_type": "code",
      "metadata": {
        "colab": {
          "base_uri": "https://localhost:8080/",
          "height": 172
        },
        "id": "HLgfc0GmvwB6",
        "outputId": "ed4107c2-dfd5-4c07-89f9-64cec9a57519"
      },
      "source": [
        "df.fillna(value= 0)"
      ],
      "execution_count": null,
      "outputs": [
        {
          "output_type": "execute_result",
          "data": {
            "text/html": [
              "<div>\n",
              "<style scoped>\n",
              "    .dataframe tbody tr th:only-of-type {\n",
              "        vertical-align: middle;\n",
              "    }\n",
              "\n",
              "    .dataframe tbody tr th {\n",
              "        vertical-align: top;\n",
              "    }\n",
              "\n",
              "    .dataframe thead th {\n",
              "        text-align: right;\n",
              "    }\n",
              "</style>\n",
              "<table border=\"1\" class=\"dataframe\">\n",
              "  <thead>\n",
              "    <tr style=\"text-align: right;\">\n",
              "      <th></th>\n",
              "      <th>A</th>\n",
              "      <th>B</th>\n",
              "      <th>C</th>\n",
              "    </tr>\n",
              "  </thead>\n",
              "  <tbody>\n",
              "    <tr>\n",
              "      <th>0</th>\n",
              "      <td>1.0</td>\n",
              "      <td>5.0</td>\n",
              "      <td>10</td>\n",
              "    </tr>\n",
              "    <tr>\n",
              "      <th>1</th>\n",
              "      <td>2.0</td>\n",
              "      <td>0.0</td>\n",
              "      <td>20</td>\n",
              "    </tr>\n",
              "    <tr>\n",
              "      <th>2</th>\n",
              "      <td>0.0</td>\n",
              "      <td>0.0</td>\n",
              "      <td>30</td>\n",
              "    </tr>\n",
              "    <tr>\n",
              "      <th>3</th>\n",
              "      <td>4.0</td>\n",
              "      <td>8.0</td>\n",
              "      <td>40</td>\n",
              "    </tr>\n",
              "  </tbody>\n",
              "</table>\n",
              "</div>"
            ],
            "text/plain": [
              "     A    B   C\n",
              "0  1.0  5.0  10\n",
              "1  2.0  0.0  20\n",
              "2  0.0  0.0  30\n",
              "3  4.0  8.0  40"
            ]
          },
          "metadata": {
            "tags": []
          },
          "execution_count": 42
        }
      ]
    },
    {
      "cell_type": "code",
      "metadata": {
        "colab": {
          "base_uri": "https://localhost:8080/"
        },
        "id": "PZLLqQMiwBeZ",
        "outputId": "127a269e-8c7d-4001-a93b-a2095ed291e3"
      },
      "source": [
        "df[\"A\"] = df[\"A\"].fillna(value = 0)\n",
        "df[\"A\"]"
      ],
      "execution_count": null,
      "outputs": [
        {
          "output_type": "execute_result",
          "data": {
            "text/plain": [
              "0    1.0\n",
              "1    2.0\n",
              "2    0.0\n",
              "3    4.0\n",
              "Name: A, dtype: float64"
            ]
          },
          "metadata": {
            "tags": []
          },
          "execution_count": 44
        }
      ]
    },
    {
      "cell_type": "code",
      "metadata": {
        "colab": {
          "base_uri": "https://localhost:8080/"
        },
        "id": "dkTJ340VwJOS",
        "outputId": "f010530d-efd6-4705-842f-a2b03d3c2059"
      },
      "source": [
        "df[\"B\"] = df[\"B\"].fillna(value = df[\"B\"].mean())\n",
        "df[\"B\"]"
      ],
      "execution_count": null,
      "outputs": [
        {
          "output_type": "execute_result",
          "data": {
            "text/plain": [
              "0    5.0\n",
              "1    6.5\n",
              "2    6.5\n",
              "3    8.0\n",
              "Name: B, dtype: float64"
            ]
          },
          "metadata": {
            "tags": []
          },
          "execution_count": 45
        }
      ]
    },
    {
      "cell_type": "markdown",
      "metadata": {
        "id": "pc4-H-4NxKil"
      },
      "source": [
        "GROUP BY FUNCTION"
      ]
    },
    {
      "cell_type": "code",
      "metadata": {
        "colab": {
          "base_uri": "https://localhost:8080/",
          "height": 203
        },
        "id": "-JbERWsZxNUk",
        "outputId": "6b64d080-6b70-4686-c751-439970679649"
      },
      "source": [
        "df = pd.read_csv(\"Universities.csv\")\n",
        "df.head()"
      ],
      "execution_count": null,
      "outputs": [
        {
          "output_type": "execute_result",
          "data": {
            "text/html": [
              "<div>\n",
              "<style scoped>\n",
              "    .dataframe tbody tr th:only-of-type {\n",
              "        vertical-align: middle;\n",
              "    }\n",
              "\n",
              "    .dataframe tbody tr th {\n",
              "        vertical-align: top;\n",
              "    }\n",
              "\n",
              "    .dataframe thead th {\n",
              "        text-align: right;\n",
              "    }\n",
              "</style>\n",
              "<table border=\"1\" class=\"dataframe\">\n",
              "  <thead>\n",
              "    <tr style=\"text-align: right;\">\n",
              "      <th></th>\n",
              "      <th>Sector</th>\n",
              "      <th>University</th>\n",
              "      <th>Year</th>\n",
              "      <th>Completions</th>\n",
              "      <th>Geography</th>\n",
              "    </tr>\n",
              "  </thead>\n",
              "  <tbody>\n",
              "    <tr>\n",
              "      <th>0</th>\n",
              "      <td>Private for-profit, 2-year</td>\n",
              "      <td>Pima Medical Institute-Las Vegas</td>\n",
              "      <td>2016</td>\n",
              "      <td>591</td>\n",
              "      <td>Nevada</td>\n",
              "    </tr>\n",
              "    <tr>\n",
              "      <th>1</th>\n",
              "      <td>Private for-profit, less-than 2-year</td>\n",
              "      <td>Healthcare Preparatory Institute</td>\n",
              "      <td>2016</td>\n",
              "      <td>28</td>\n",
              "      <td>Nevada</td>\n",
              "    </tr>\n",
              "    <tr>\n",
              "      <th>2</th>\n",
              "      <td>Private for-profit, less-than 2-year</td>\n",
              "      <td>Milan Institute-Las Vegas</td>\n",
              "      <td>2016</td>\n",
              "      <td>408</td>\n",
              "      <td>Nevada</td>\n",
              "    </tr>\n",
              "    <tr>\n",
              "      <th>3</th>\n",
              "      <td>Private for-profit, less-than 2-year</td>\n",
              "      <td>Utah College of Massage Therapy-Vegas</td>\n",
              "      <td>2016</td>\n",
              "      <td>240</td>\n",
              "      <td>Nevada</td>\n",
              "    </tr>\n",
              "    <tr>\n",
              "      <th>4</th>\n",
              "      <td>Public, 4-year or above</td>\n",
              "      <td>Western Nevada College</td>\n",
              "      <td>2016</td>\n",
              "      <td>960</td>\n",
              "      <td>Nevada</td>\n",
              "    </tr>\n",
              "  </tbody>\n",
              "</table>\n",
              "</div>"
            ],
            "text/plain": [
              "                                 Sector  ... Geography\n",
              "0            Private for-profit, 2-year  ...    Nevada\n",
              "1  Private for-profit, less-than 2-year  ...    Nevada\n",
              "2  Private for-profit, less-than 2-year  ...    Nevada\n",
              "3  Private for-profit, less-than 2-year  ...    Nevada\n",
              "4               Public, 4-year or above  ...    Nevada\n",
              "\n",
              "[5 rows x 5 columns]"
            ]
          },
          "metadata": {
            "tags": []
          },
          "execution_count": 46
        }
      ]
    },
    {
      "cell_type": "code",
      "metadata": {
        "colab": {
          "base_uri": "https://localhost:8080/",
          "height": 234
        },
        "id": "8H46XSg3yRp0",
        "outputId": "065d7218-c1d5-49c3-9ac0-311019b49a0f"
      },
      "source": [
        "df.groupby(\"Year\").sum()"
      ],
      "execution_count": null,
      "outputs": [
        {
          "output_type": "execute_result",
          "data": {
            "text/html": [
              "<div>\n",
              "<style scoped>\n",
              "    .dataframe tbody tr th:only-of-type {\n",
              "        vertical-align: middle;\n",
              "    }\n",
              "\n",
              "    .dataframe tbody tr th {\n",
              "        vertical-align: top;\n",
              "    }\n",
              "\n",
              "    .dataframe thead th {\n",
              "        text-align: right;\n",
              "    }\n",
              "</style>\n",
              "<table border=\"1\" class=\"dataframe\">\n",
              "  <thead>\n",
              "    <tr style=\"text-align: right;\">\n",
              "      <th></th>\n",
              "      <th>Completions</th>\n",
              "    </tr>\n",
              "    <tr>\n",
              "      <th>Year</th>\n",
              "      <th></th>\n",
              "    </tr>\n",
              "  </thead>\n",
              "  <tbody>\n",
              "    <tr>\n",
              "      <th>2012</th>\n",
              "      <td>20333</td>\n",
              "    </tr>\n",
              "    <tr>\n",
              "      <th>2013</th>\n",
              "      <td>21046</td>\n",
              "    </tr>\n",
              "    <tr>\n",
              "      <th>2014</th>\n",
              "      <td>24730</td>\n",
              "    </tr>\n",
              "    <tr>\n",
              "      <th>2015</th>\n",
              "      <td>26279</td>\n",
              "    </tr>\n",
              "    <tr>\n",
              "      <th>2016</th>\n",
              "      <td>26224</td>\n",
              "    </tr>\n",
              "  </tbody>\n",
              "</table>\n",
              "</div>"
            ],
            "text/plain": [
              "      Completions\n",
              "Year             \n",
              "2012        20333\n",
              "2013        21046\n",
              "2014        24730\n",
              "2015        26279\n",
              "2016        26224"
            ]
          },
          "metadata": {
            "tags": []
          },
          "execution_count": 47
        }
      ]
    },
    {
      "cell_type": "code",
      "metadata": {
        "colab": {
          "base_uri": "https://localhost:8080/",
          "height": 234
        },
        "id": "IKNeUamsyhdf",
        "outputId": "98a04b27-ad82-4b00-9da1-2ac40cf8044e"
      },
      "source": [
        "df.groupby(\"Year\").mean().sort_index(ascending = False)"
      ],
      "execution_count": null,
      "outputs": [
        {
          "output_type": "execute_result",
          "data": {
            "text/html": [
              "<div>\n",
              "<style scoped>\n",
              "    .dataframe tbody tr th:only-of-type {\n",
              "        vertical-align: middle;\n",
              "    }\n",
              "\n",
              "    .dataframe tbody tr th {\n",
              "        vertical-align: top;\n",
              "    }\n",
              "\n",
              "    .dataframe thead th {\n",
              "        text-align: right;\n",
              "    }\n",
              "</style>\n",
              "<table border=\"1\" class=\"dataframe\">\n",
              "  <thead>\n",
              "    <tr style=\"text-align: right;\">\n",
              "      <th></th>\n",
              "      <th>Completions</th>\n",
              "    </tr>\n",
              "    <tr>\n",
              "      <th>Year</th>\n",
              "      <th></th>\n",
              "    </tr>\n",
              "  </thead>\n",
              "  <tbody>\n",
              "    <tr>\n",
              "      <th>2016</th>\n",
              "      <td>609.860465</td>\n",
              "    </tr>\n",
              "    <tr>\n",
              "      <th>2015</th>\n",
              "      <td>597.250000</td>\n",
              "    </tr>\n",
              "    <tr>\n",
              "      <th>2014</th>\n",
              "      <td>588.809524</td>\n",
              "    </tr>\n",
              "    <tr>\n",
              "      <th>2013</th>\n",
              "      <td>526.150000</td>\n",
              "    </tr>\n",
              "    <tr>\n",
              "      <th>2012</th>\n",
              "      <td>535.078947</td>\n",
              "    </tr>\n",
              "  </tbody>\n",
              "</table>\n",
              "</div>"
            ],
            "text/plain": [
              "      Completions\n",
              "Year             \n",
              "2016   609.860465\n",
              "2015   597.250000\n",
              "2014   588.809524\n",
              "2013   526.150000\n",
              "2012   535.078947"
            ]
          },
          "metadata": {
            "tags": []
          },
          "execution_count": 49
        }
      ]
    },
    {
      "cell_type": "code",
      "metadata": {
        "colab": {
          "base_uri": "https://localhost:8080/",
          "height": 1000
        },
        "id": "j-DFDQO0zIl4",
        "outputId": "7e533f3c-0383-4260-e31d-0bf2ec273498"
      },
      "source": [
        "df.groupby([\"Year\" , \"Sector\"]).sum()"
      ],
      "execution_count": null,
      "outputs": [
        {
          "output_type": "execute_result",
          "data": {
            "text/html": [
              "<div>\n",
              "<style scoped>\n",
              "    .dataframe tbody tr th:only-of-type {\n",
              "        vertical-align: middle;\n",
              "    }\n",
              "\n",
              "    .dataframe tbody tr th {\n",
              "        vertical-align: top;\n",
              "    }\n",
              "\n",
              "    .dataframe thead th {\n",
              "        text-align: right;\n",
              "    }\n",
              "</style>\n",
              "<table border=\"1\" class=\"dataframe\">\n",
              "  <thead>\n",
              "    <tr style=\"text-align: right;\">\n",
              "      <th></th>\n",
              "      <th></th>\n",
              "      <th>Completions</th>\n",
              "    </tr>\n",
              "    <tr>\n",
              "      <th>Year</th>\n",
              "      <th>Sector</th>\n",
              "      <th></th>\n",
              "    </tr>\n",
              "  </thead>\n",
              "  <tbody>\n",
              "    <tr>\n",
              "      <th rowspan=\"7\" valign=\"top\">2012</th>\n",
              "      <th>Private for-profit, 2-year</th>\n",
              "      <td>3072</td>\n",
              "    </tr>\n",
              "    <tr>\n",
              "      <th>Private for-profit, 4-year or above</th>\n",
              "      <td>632</td>\n",
              "    </tr>\n",
              "    <tr>\n",
              "      <th>Private for-profit, less-than 2-year</th>\n",
              "      <td>1327</td>\n",
              "    </tr>\n",
              "    <tr>\n",
              "      <th>Private not-for-profit, 2-year</th>\n",
              "      <td>665</td>\n",
              "    </tr>\n",
              "    <tr>\n",
              "      <th>Private not-for-profit, 4-year or above</th>\n",
              "      <td>1059</td>\n",
              "    </tr>\n",
              "    <tr>\n",
              "      <th>Public, 2-year</th>\n",
              "      <td>1170</td>\n",
              "    </tr>\n",
              "    <tr>\n",
              "      <th>Public, 4-year or above</th>\n",
              "      <td>12408</td>\n",
              "    </tr>\n",
              "    <tr>\n",
              "      <th rowspan=\"7\" valign=\"top\">2013</th>\n",
              "      <th>Private for-profit, 2-year</th>\n",
              "      <td>3053</td>\n",
              "    </tr>\n",
              "    <tr>\n",
              "      <th>Private for-profit, 4-year or above</th>\n",
              "      <td>775</td>\n",
              "    </tr>\n",
              "    <tr>\n",
              "      <th>Private for-profit, less-than 2-year</th>\n",
              "      <td>1281</td>\n",
              "    </tr>\n",
              "    <tr>\n",
              "      <th>Private not-for-profit, 2-year</th>\n",
              "      <td>471</td>\n",
              "    </tr>\n",
              "    <tr>\n",
              "      <th>Private not-for-profit, 4-year or above</th>\n",
              "      <td>1016</td>\n",
              "    </tr>\n",
              "    <tr>\n",
              "      <th>Public, 2-year</th>\n",
              "      <td>1633</td>\n",
              "    </tr>\n",
              "    <tr>\n",
              "      <th>Public, 4-year or above</th>\n",
              "      <td>12817</td>\n",
              "    </tr>\n",
              "    <tr>\n",
              "      <th rowspan=\"7\" valign=\"top\">2014</th>\n",
              "      <th>Private for-profit, 2-year</th>\n",
              "      <td>2957</td>\n",
              "    </tr>\n",
              "    <tr>\n",
              "      <th>Private for-profit, 4-year or above</th>\n",
              "      <td>1506</td>\n",
              "    </tr>\n",
              "    <tr>\n",
              "      <th>Private for-profit, less-than 2-year</th>\n",
              "      <td>1328</td>\n",
              "    </tr>\n",
              "    <tr>\n",
              "      <th>Private not-for-profit, 2-year</th>\n",
              "      <td>449</td>\n",
              "    </tr>\n",
              "    <tr>\n",
              "      <th>Private not-for-profit, 4-year or above</th>\n",
              "      <td>1042</td>\n",
              "    </tr>\n",
              "    <tr>\n",
              "      <th>Public, 2-year</th>\n",
              "      <td>2286</td>\n",
              "    </tr>\n",
              "    <tr>\n",
              "      <th>Public, 4-year or above</th>\n",
              "      <td>15162</td>\n",
              "    </tr>\n",
              "    <tr>\n",
              "      <th rowspan=\"7\" valign=\"top\">2015</th>\n",
              "      <th>Private for-profit, 2-year</th>\n",
              "      <td>3280</td>\n",
              "    </tr>\n",
              "    <tr>\n",
              "      <th>Private for-profit, 4-year or above</th>\n",
              "      <td>1306</td>\n",
              "    </tr>\n",
              "    <tr>\n",
              "      <th>Private for-profit, less-than 2-year</th>\n",
              "      <td>1629</td>\n",
              "    </tr>\n",
              "    <tr>\n",
              "      <th>Private not-for-profit, 2-year</th>\n",
              "      <td>425</td>\n",
              "    </tr>\n",
              "    <tr>\n",
              "      <th>Private not-for-profit, 4-year or above</th>\n",
              "      <td>1228</td>\n",
              "    </tr>\n",
              "    <tr>\n",
              "      <th>Public, 2-year</th>\n",
              "      <td>2355</td>\n",
              "    </tr>\n",
              "    <tr>\n",
              "      <th>Public, 4-year or above</th>\n",
              "      <td>16056</td>\n",
              "    </tr>\n",
              "    <tr>\n",
              "      <th rowspan=\"7\" valign=\"top\">2016</th>\n",
              "      <th>Private for-profit, 2-year</th>\n",
              "      <td>3286</td>\n",
              "    </tr>\n",
              "    <tr>\n",
              "      <th>Private for-profit, 4-year or above</th>\n",
              "      <td>748</td>\n",
              "    </tr>\n",
              "    <tr>\n",
              "      <th>Private for-profit, less-than 2-year</th>\n",
              "      <td>1552</td>\n",
              "    </tr>\n",
              "    <tr>\n",
              "      <th>Private not-for-profit, 2-year</th>\n",
              "      <td>322</td>\n",
              "    </tr>\n",
              "    <tr>\n",
              "      <th>Private not-for-profit, 4-year or above</th>\n",
              "      <td>1208</td>\n",
              "    </tr>\n",
              "    <tr>\n",
              "      <th>Public, 2-year</th>\n",
              "      <td>2431</td>\n",
              "    </tr>\n",
              "    <tr>\n",
              "      <th>Public, 4-year or above</th>\n",
              "      <td>16677</td>\n",
              "    </tr>\n",
              "  </tbody>\n",
              "</table>\n",
              "</div>"
            ],
            "text/plain": [
              "                                              Completions\n",
              "Year Sector                                              \n",
              "2012 Private for-profit, 2-year                      3072\n",
              "     Private for-profit, 4-year or above              632\n",
              "     Private for-profit, less-than 2-year            1327\n",
              "     Private not-for-profit, 2-year                   665\n",
              "     Private not-for-profit, 4-year or above         1059\n",
              "     Public, 2-year                                  1170\n",
              "     Public, 4-year or above                        12408\n",
              "2013 Private for-profit, 2-year                      3053\n",
              "     Private for-profit, 4-year or above              775\n",
              "     Private for-profit, less-than 2-year            1281\n",
              "     Private not-for-profit, 2-year                   471\n",
              "     Private not-for-profit, 4-year or above         1016\n",
              "     Public, 2-year                                  1633\n",
              "     Public, 4-year or above                        12817\n",
              "2014 Private for-profit, 2-year                      2957\n",
              "     Private for-profit, 4-year or above             1506\n",
              "     Private for-profit, less-than 2-year            1328\n",
              "     Private not-for-profit, 2-year                   449\n",
              "     Private not-for-profit, 4-year or above         1042\n",
              "     Public, 2-year                                  2286\n",
              "     Public, 4-year or above                        15162\n",
              "2015 Private for-profit, 2-year                      3280\n",
              "     Private for-profit, 4-year or above             1306\n",
              "     Private for-profit, less-than 2-year            1629\n",
              "     Private not-for-profit, 2-year                   425\n",
              "     Private not-for-profit, 4-year or above         1228\n",
              "     Public, 2-year                                  2355\n",
              "     Public, 4-year or above                        16056\n",
              "2016 Private for-profit, 2-year                      3286\n",
              "     Private for-profit, 4-year or above              748\n",
              "     Private for-profit, less-than 2-year            1552\n",
              "     Private not-for-profit, 2-year                   322\n",
              "     Private not-for-profit, 4-year or above         1208\n",
              "     Public, 2-year                                  2431\n",
              "     Public, 4-year or above                        16677"
            ]
          },
          "metadata": {
            "tags": []
          },
          "execution_count": 52
        }
      ]
    },
    {
      "cell_type": "code",
      "metadata": {
        "colab": {
          "base_uri": "https://localhost:8080/",
          "height": 295
        },
        "id": "GSm2tP3tziiY",
        "outputId": "8e3ea5da-f662-43ef-c65b-6e9811754e84"
      },
      "source": [
        "df.groupby(\"Year\").describe().transpose()"
      ],
      "execution_count": null,
      "outputs": [
        {
          "output_type": "execute_result",
          "data": {
            "text/html": [
              "<div>\n",
              "<style scoped>\n",
              "    .dataframe tbody tr th:only-of-type {\n",
              "        vertical-align: middle;\n",
              "    }\n",
              "\n",
              "    .dataframe tbody tr th {\n",
              "        vertical-align: top;\n",
              "    }\n",
              "\n",
              "    .dataframe thead th {\n",
              "        text-align: right;\n",
              "    }\n",
              "</style>\n",
              "<table border=\"1\" class=\"dataframe\">\n",
              "  <thead>\n",
              "    <tr style=\"text-align: right;\">\n",
              "      <th></th>\n",
              "      <th>Year</th>\n",
              "      <th>2012</th>\n",
              "      <th>2013</th>\n",
              "      <th>2014</th>\n",
              "      <th>2015</th>\n",
              "      <th>2016</th>\n",
              "    </tr>\n",
              "  </thead>\n",
              "  <tbody>\n",
              "    <tr>\n",
              "      <th rowspan=\"8\" valign=\"top\">Completions</th>\n",
              "      <th>count</th>\n",
              "      <td>38.000000</td>\n",
              "      <td>40.000000</td>\n",
              "      <td>42.000000</td>\n",
              "      <td>44.000000</td>\n",
              "      <td>43.000000</td>\n",
              "    </tr>\n",
              "    <tr>\n",
              "      <th>mean</th>\n",
              "      <td>535.078947</td>\n",
              "      <td>526.150000</td>\n",
              "      <td>588.809524</td>\n",
              "      <td>597.250000</td>\n",
              "      <td>609.860465</td>\n",
              "    </tr>\n",
              "    <tr>\n",
              "      <th>std</th>\n",
              "      <td>1036.433239</td>\n",
              "      <td>1040.474782</td>\n",
              "      <td>1150.355857</td>\n",
              "      <td>1183.371791</td>\n",
              "      <td>1235.952796</td>\n",
              "    </tr>\n",
              "    <tr>\n",
              "      <th>min</th>\n",
              "      <td>13.000000</td>\n",
              "      <td>0.000000</td>\n",
              "      <td>0.000000</td>\n",
              "      <td>0.000000</td>\n",
              "      <td>0.000000</td>\n",
              "    </tr>\n",
              "    <tr>\n",
              "      <th>25%</th>\n",
              "      <td>114.250000</td>\n",
              "      <td>98.500000</td>\n",
              "      <td>104.500000</td>\n",
              "      <td>87.750000</td>\n",
              "      <td>90.000000</td>\n",
              "    </tr>\n",
              "    <tr>\n",
              "      <th>50%</th>\n",
              "      <td>229.500000</td>\n",
              "      <td>189.000000</td>\n",
              "      <td>203.500000</td>\n",
              "      <td>191.000000</td>\n",
              "      <td>208.000000</td>\n",
              "    </tr>\n",
              "    <tr>\n",
              "      <th>75%</th>\n",
              "      <td>420.500000</td>\n",
              "      <td>413.000000</td>\n",
              "      <td>371.750000</td>\n",
              "      <td>405.750000</td>\n",
              "      <td>414.000000</td>\n",
              "    </tr>\n",
              "    <tr>\n",
              "      <th>max</th>\n",
              "      <td>5388.000000</td>\n",
              "      <td>5278.000000</td>\n",
              "      <td>5093.000000</td>\n",
              "      <td>5335.000000</td>\n",
              "      <td>5367.000000</td>\n",
              "    </tr>\n",
              "  </tbody>\n",
              "</table>\n",
              "</div>"
            ],
            "text/plain": [
              "Year                      2012         2013  ...         2015         2016\n",
              "Completions count    38.000000    40.000000  ...    44.000000    43.000000\n",
              "            mean    535.078947   526.150000  ...   597.250000   609.860465\n",
              "            std    1036.433239  1040.474782  ...  1183.371791  1235.952796\n",
              "            min      13.000000     0.000000  ...     0.000000     0.000000\n",
              "            25%     114.250000    98.500000  ...    87.750000    90.000000\n",
              "            50%     229.500000   189.000000  ...   191.000000   208.000000\n",
              "            75%     420.500000   413.000000  ...   405.750000   414.000000\n",
              "            max    5388.000000  5278.000000  ...  5335.000000  5367.000000\n",
              "\n",
              "[8 rows x 5 columns]"
            ]
          },
          "metadata": {
            "tags": []
          },
          "execution_count": 55
        }
      ]
    },
    {
      "cell_type": "code",
      "metadata": {
        "id": "PyHJ5ugG0Hch"
      },
      "source": [
        "df_one = pd.DataFrame({\"k1\" : [\"A\",\"A\",\"B\",\"B\",\"C\",\"C\"] , \n",
        "                       \"col1\" : [100 , 200 , 300 , 300 , 400 , 500],\n",
        "                       \"col2\" : [\"CA\" , \"NY\" , \"WA\" , \"WA\" , \"AK\" , \"NV\"]})"
      ],
      "execution_count": null,
      "outputs": []
    },
    {
      "cell_type": "code",
      "metadata": {
        "colab": {
          "base_uri": "https://localhost:8080/",
          "height": 234
        },
        "id": "43nYpWqs03Nh",
        "outputId": "e660d8a0-bc6a-4172-b0a9-4121309432c7"
      },
      "source": [
        "df_one"
      ],
      "execution_count": null,
      "outputs": [
        {
          "output_type": "execute_result",
          "data": {
            "text/html": [
              "<div>\n",
              "<style scoped>\n",
              "    .dataframe tbody tr th:only-of-type {\n",
              "        vertical-align: middle;\n",
              "    }\n",
              "\n",
              "    .dataframe tbody tr th {\n",
              "        vertical-align: top;\n",
              "    }\n",
              "\n",
              "    .dataframe thead th {\n",
              "        text-align: right;\n",
              "    }\n",
              "</style>\n",
              "<table border=\"1\" class=\"dataframe\">\n",
              "  <thead>\n",
              "    <tr style=\"text-align: right;\">\n",
              "      <th></th>\n",
              "      <th>k1</th>\n",
              "      <th>col1</th>\n",
              "      <th>col2</th>\n",
              "    </tr>\n",
              "  </thead>\n",
              "  <tbody>\n",
              "    <tr>\n",
              "      <th>0</th>\n",
              "      <td>A</td>\n",
              "      <td>100</td>\n",
              "      <td>CA</td>\n",
              "    </tr>\n",
              "    <tr>\n",
              "      <th>1</th>\n",
              "      <td>A</td>\n",
              "      <td>200</td>\n",
              "      <td>NY</td>\n",
              "    </tr>\n",
              "    <tr>\n",
              "      <th>2</th>\n",
              "      <td>B</td>\n",
              "      <td>300</td>\n",
              "      <td>WA</td>\n",
              "    </tr>\n",
              "    <tr>\n",
              "      <th>3</th>\n",
              "      <td>B</td>\n",
              "      <td>300</td>\n",
              "      <td>WA</td>\n",
              "    </tr>\n",
              "    <tr>\n",
              "      <th>4</th>\n",
              "      <td>C</td>\n",
              "      <td>400</td>\n",
              "      <td>AK</td>\n",
              "    </tr>\n",
              "    <tr>\n",
              "      <th>5</th>\n",
              "      <td>C</td>\n",
              "      <td>500</td>\n",
              "      <td>NV</td>\n",
              "    </tr>\n",
              "  </tbody>\n",
              "</table>\n",
              "</div>"
            ],
            "text/plain": [
              "  k1  col1 col2\n",
              "0  A   100   CA\n",
              "1  A   200   NY\n",
              "2  B   300   WA\n",
              "3  B   300   WA\n",
              "4  C   400   AK\n",
              "5  C   500   NV"
            ]
          },
          "metadata": {
            "tags": []
          },
          "execution_count": 57
        }
      ]
    },
    {
      "cell_type": "code",
      "metadata": {
        "colab": {
          "base_uri": "https://localhost:8080/"
        },
        "id": "_vJUjKxN1C_r",
        "outputId": "22be51e4-0f0f-448c-c891-92b6e1316005"
      },
      "source": [
        "df_one[\"col2\"].unique()"
      ],
      "execution_count": null,
      "outputs": [
        {
          "output_type": "execute_result",
          "data": {
            "text/plain": [
              "array(['CA', 'NY', 'WA', 'AK', 'NV'], dtype=object)"
            ]
          },
          "metadata": {
            "tags": []
          },
          "execution_count": 58
        }
      ]
    },
    {
      "cell_type": "code",
      "metadata": {
        "colab": {
          "base_uri": "https://localhost:8080/"
        },
        "id": "wDu-Ep3_1JMR",
        "outputId": "2c910bb5-ca9f-4d81-dd98-8fd4bd6275df"
      },
      "source": [
        "df_one[\"col2\"].nunique()"
      ],
      "execution_count": null,
      "outputs": [
        {
          "output_type": "execute_result",
          "data": {
            "text/plain": [
              "5"
            ]
          },
          "metadata": {
            "tags": []
          },
          "execution_count": 59
        }
      ]
    },
    {
      "cell_type": "code",
      "metadata": {
        "colab": {
          "base_uri": "https://localhost:8080/"
        },
        "id": "fOQGWWdG1LOI",
        "outputId": "6873f5d3-b6f9-4947-f7f4-e81c64505d6c"
      },
      "source": [
        "df_one[\"col2\"].value_counts()"
      ],
      "execution_count": null,
      "outputs": [
        {
          "output_type": "execute_result",
          "data": {
            "text/plain": [
              "WA    2\n",
              "NY    1\n",
              "NV    1\n",
              "CA    1\n",
              "AK    1\n",
              "Name: col2, dtype: int64"
            ]
          },
          "metadata": {
            "tags": []
          },
          "execution_count": 60
        }
      ]
    },
    {
      "cell_type": "code",
      "metadata": {
        "colab": {
          "base_uri": "https://localhost:8080/",
          "height": 203
        },
        "id": "Up21-PDM1Qqq",
        "outputId": "95f8ac14-4587-4d9b-eebc-1da31a55a3e2"
      },
      "source": [
        "df_one.drop_duplicates()"
      ],
      "execution_count": null,
      "outputs": [
        {
          "output_type": "execute_result",
          "data": {
            "text/html": [
              "<div>\n",
              "<style scoped>\n",
              "    .dataframe tbody tr th:only-of-type {\n",
              "        vertical-align: middle;\n",
              "    }\n",
              "\n",
              "    .dataframe tbody tr th {\n",
              "        vertical-align: top;\n",
              "    }\n",
              "\n",
              "    .dataframe thead th {\n",
              "        text-align: right;\n",
              "    }\n",
              "</style>\n",
              "<table border=\"1\" class=\"dataframe\">\n",
              "  <thead>\n",
              "    <tr style=\"text-align: right;\">\n",
              "      <th></th>\n",
              "      <th>k1</th>\n",
              "      <th>col1</th>\n",
              "      <th>col2</th>\n",
              "    </tr>\n",
              "  </thead>\n",
              "  <tbody>\n",
              "    <tr>\n",
              "      <th>0</th>\n",
              "      <td>A</td>\n",
              "      <td>100</td>\n",
              "      <td>CA</td>\n",
              "    </tr>\n",
              "    <tr>\n",
              "      <th>1</th>\n",
              "      <td>A</td>\n",
              "      <td>200</td>\n",
              "      <td>NY</td>\n",
              "    </tr>\n",
              "    <tr>\n",
              "      <th>2</th>\n",
              "      <td>B</td>\n",
              "      <td>300</td>\n",
              "      <td>WA</td>\n",
              "    </tr>\n",
              "    <tr>\n",
              "      <th>4</th>\n",
              "      <td>C</td>\n",
              "      <td>400</td>\n",
              "      <td>AK</td>\n",
              "    </tr>\n",
              "    <tr>\n",
              "      <th>5</th>\n",
              "      <td>C</td>\n",
              "      <td>500</td>\n",
              "      <td>NV</td>\n",
              "    </tr>\n",
              "  </tbody>\n",
              "</table>\n",
              "</div>"
            ],
            "text/plain": [
              "  k1  col1 col2\n",
              "0  A   100   CA\n",
              "1  A   200   NY\n",
              "2  B   300   WA\n",
              "4  C   400   AK\n",
              "5  C   500   NV"
            ]
          },
          "metadata": {
            "tags": []
          },
          "execution_count": 61
        }
      ]
    },
    {
      "cell_type": "code",
      "metadata": {
        "id": "EAXMwDS210ps"
      },
      "source": [
        "def grab_first_letter(state):\n",
        "  return state[0]\n",
        "df_one[\"First Letter\"] = df_one[\"col2\"].apply(grab_first_letter)"
      ],
      "execution_count": null,
      "outputs": []
    },
    {
      "cell_type": "code",
      "metadata": {
        "colab": {
          "base_uri": "https://localhost:8080/",
          "height": 234
        },
        "id": "rNVSLkVC2H8h",
        "outputId": "16a9e6ad-98fb-49e5-85f4-f6b882c26737"
      },
      "source": [
        "df_one"
      ],
      "execution_count": null,
      "outputs": [
        {
          "output_type": "execute_result",
          "data": {
            "text/html": [
              "<div>\n",
              "<style scoped>\n",
              "    .dataframe tbody tr th:only-of-type {\n",
              "        vertical-align: middle;\n",
              "    }\n",
              "\n",
              "    .dataframe tbody tr th {\n",
              "        vertical-align: top;\n",
              "    }\n",
              "\n",
              "    .dataframe thead th {\n",
              "        text-align: right;\n",
              "    }\n",
              "</style>\n",
              "<table border=\"1\" class=\"dataframe\">\n",
              "  <thead>\n",
              "    <tr style=\"text-align: right;\">\n",
              "      <th></th>\n",
              "      <th>k1</th>\n",
              "      <th>col1</th>\n",
              "      <th>col2</th>\n",
              "      <th>First Letter</th>\n",
              "    </tr>\n",
              "  </thead>\n",
              "  <tbody>\n",
              "    <tr>\n",
              "      <th>0</th>\n",
              "      <td>A</td>\n",
              "      <td>100</td>\n",
              "      <td>CA</td>\n",
              "      <td>C</td>\n",
              "    </tr>\n",
              "    <tr>\n",
              "      <th>1</th>\n",
              "      <td>A</td>\n",
              "      <td>200</td>\n",
              "      <td>NY</td>\n",
              "      <td>N</td>\n",
              "    </tr>\n",
              "    <tr>\n",
              "      <th>2</th>\n",
              "      <td>B</td>\n",
              "      <td>300</td>\n",
              "      <td>WA</td>\n",
              "      <td>W</td>\n",
              "    </tr>\n",
              "    <tr>\n",
              "      <th>3</th>\n",
              "      <td>B</td>\n",
              "      <td>300</td>\n",
              "      <td>WA</td>\n",
              "      <td>W</td>\n",
              "    </tr>\n",
              "    <tr>\n",
              "      <th>4</th>\n",
              "      <td>C</td>\n",
              "      <td>400</td>\n",
              "      <td>AK</td>\n",
              "      <td>A</td>\n",
              "    </tr>\n",
              "    <tr>\n",
              "      <th>5</th>\n",
              "      <td>C</td>\n",
              "      <td>500</td>\n",
              "      <td>NV</td>\n",
              "      <td>N</td>\n",
              "    </tr>\n",
              "  </tbody>\n",
              "</table>\n",
              "</div>"
            ],
            "text/plain": [
              "  k1  col1 col2 First Letter\n",
              "0  A   100   CA            C\n",
              "1  A   200   NY            N\n",
              "2  B   300   WA            W\n",
              "3  B   300   WA            W\n",
              "4  C   400   AK            A\n",
              "5  C   500   NV            N"
            ]
          },
          "metadata": {
            "tags": []
          },
          "execution_count": 63
        }
      ]
    },
    {
      "cell_type": "code",
      "metadata": {
        "id": "JOKxWHyt23rw"
      },
      "source": [
        "my_map = {\"A\" : 1 , \"B\" : 2 , \"C\" : 3}\n",
        "df_one[\"num\"] = df_one[\"k1\"].map(my_map)"
      ],
      "execution_count": null,
      "outputs": []
    },
    {
      "cell_type": "code",
      "metadata": {
        "colab": {
          "base_uri": "https://localhost:8080/",
          "height": 234
        },
        "id": "H5kJ_PZs3M6v",
        "outputId": "84d4d17a-5d4e-4751-fc2c-f539200e41c9"
      },
      "source": [
        "df_one"
      ],
      "execution_count": null,
      "outputs": [
        {
          "output_type": "execute_result",
          "data": {
            "text/html": [
              "<div>\n",
              "<style scoped>\n",
              "    .dataframe tbody tr th:only-of-type {\n",
              "        vertical-align: middle;\n",
              "    }\n",
              "\n",
              "    .dataframe tbody tr th {\n",
              "        vertical-align: top;\n",
              "    }\n",
              "\n",
              "    .dataframe thead th {\n",
              "        text-align: right;\n",
              "    }\n",
              "</style>\n",
              "<table border=\"1\" class=\"dataframe\">\n",
              "  <thead>\n",
              "    <tr style=\"text-align: right;\">\n",
              "      <th></th>\n",
              "      <th>k1</th>\n",
              "      <th>col1</th>\n",
              "      <th>col2</th>\n",
              "      <th>First Letter</th>\n",
              "      <th>num</th>\n",
              "    </tr>\n",
              "  </thead>\n",
              "  <tbody>\n",
              "    <tr>\n",
              "      <th>0</th>\n",
              "      <td>A</td>\n",
              "      <td>100</td>\n",
              "      <td>CA</td>\n",
              "      <td>C</td>\n",
              "      <td>1</td>\n",
              "    </tr>\n",
              "    <tr>\n",
              "      <th>1</th>\n",
              "      <td>A</td>\n",
              "      <td>200</td>\n",
              "      <td>NY</td>\n",
              "      <td>N</td>\n",
              "      <td>1</td>\n",
              "    </tr>\n",
              "    <tr>\n",
              "      <th>2</th>\n",
              "      <td>B</td>\n",
              "      <td>300</td>\n",
              "      <td>WA</td>\n",
              "      <td>W</td>\n",
              "      <td>2</td>\n",
              "    </tr>\n",
              "    <tr>\n",
              "      <th>3</th>\n",
              "      <td>B</td>\n",
              "      <td>300</td>\n",
              "      <td>WA</td>\n",
              "      <td>W</td>\n",
              "      <td>2</td>\n",
              "    </tr>\n",
              "    <tr>\n",
              "      <th>4</th>\n",
              "      <td>C</td>\n",
              "      <td>400</td>\n",
              "      <td>AK</td>\n",
              "      <td>A</td>\n",
              "      <td>3</td>\n",
              "    </tr>\n",
              "    <tr>\n",
              "      <th>5</th>\n",
              "      <td>C</td>\n",
              "      <td>500</td>\n",
              "      <td>NV</td>\n",
              "      <td>N</td>\n",
              "      <td>3</td>\n",
              "    </tr>\n",
              "  </tbody>\n",
              "</table>\n",
              "</div>"
            ],
            "text/plain": [
              "  k1  col1 col2 First Letter  num\n",
              "0  A   100   CA            C    1\n",
              "1  A   200   NY            N    1\n",
              "2  B   300   WA            W    2\n",
              "3  B   300   WA            W    2\n",
              "4  C   400   AK            A    3\n",
              "5  C   500   NV            N    3"
            ]
          },
          "metadata": {
            "tags": []
          },
          "execution_count": 66
        }
      ]
    },
    {
      "cell_type": "code",
      "metadata": {
        "colab": {
          "base_uri": "https://localhost:8080/"
        },
        "id": "PUGoVH833XGb",
        "outputId": "cae1369d-e33e-493c-ad92-5a17a9d7f7b6"
      },
      "source": [
        "df_one[\"col1\"].idxmin()"
      ],
      "execution_count": null,
      "outputs": [
        {
          "output_type": "execute_result",
          "data": {
            "text/plain": [
              "0"
            ]
          },
          "metadata": {
            "tags": []
          },
          "execution_count": 67
        }
      ]
    },
    {
      "cell_type": "code",
      "metadata": {
        "colab": {
          "base_uri": "https://localhost:8080/",
          "height": 234
        },
        "id": "3_qEDhUi3vGx",
        "outputId": "df557e80-4a29-4024-f44e-66b122a0853c"
      },
      "source": [
        "df_one.sort_values(\"First Letter\" , ascending=False)"
      ],
      "execution_count": null,
      "outputs": [
        {
          "output_type": "execute_result",
          "data": {
            "text/html": [
              "<div>\n",
              "<style scoped>\n",
              "    .dataframe tbody tr th:only-of-type {\n",
              "        vertical-align: middle;\n",
              "    }\n",
              "\n",
              "    .dataframe tbody tr th {\n",
              "        vertical-align: top;\n",
              "    }\n",
              "\n",
              "    .dataframe thead th {\n",
              "        text-align: right;\n",
              "    }\n",
              "</style>\n",
              "<table border=\"1\" class=\"dataframe\">\n",
              "  <thead>\n",
              "    <tr style=\"text-align: right;\">\n",
              "      <th></th>\n",
              "      <th>k1</th>\n",
              "      <th>col1</th>\n",
              "      <th>col2</th>\n",
              "      <th>First Letter</th>\n",
              "      <th>num</th>\n",
              "    </tr>\n",
              "  </thead>\n",
              "  <tbody>\n",
              "    <tr>\n",
              "      <th>2</th>\n",
              "      <td>B</td>\n",
              "      <td>300</td>\n",
              "      <td>WA</td>\n",
              "      <td>W</td>\n",
              "      <td>2</td>\n",
              "    </tr>\n",
              "    <tr>\n",
              "      <th>3</th>\n",
              "      <td>B</td>\n",
              "      <td>300</td>\n",
              "      <td>WA</td>\n",
              "      <td>W</td>\n",
              "      <td>2</td>\n",
              "    </tr>\n",
              "    <tr>\n",
              "      <th>1</th>\n",
              "      <td>A</td>\n",
              "      <td>200</td>\n",
              "      <td>NY</td>\n",
              "      <td>N</td>\n",
              "      <td>1</td>\n",
              "    </tr>\n",
              "    <tr>\n",
              "      <th>5</th>\n",
              "      <td>C</td>\n",
              "      <td>500</td>\n",
              "      <td>NV</td>\n",
              "      <td>N</td>\n",
              "      <td>3</td>\n",
              "    </tr>\n",
              "    <tr>\n",
              "      <th>0</th>\n",
              "      <td>A</td>\n",
              "      <td>100</td>\n",
              "      <td>CA</td>\n",
              "      <td>C</td>\n",
              "      <td>1</td>\n",
              "    </tr>\n",
              "    <tr>\n",
              "      <th>4</th>\n",
              "      <td>C</td>\n",
              "      <td>400</td>\n",
              "      <td>AK</td>\n",
              "      <td>A</td>\n",
              "      <td>3</td>\n",
              "    </tr>\n",
              "  </tbody>\n",
              "</table>\n",
              "</div>"
            ],
            "text/plain": [
              "  k1  col1 col2 First Letter  num\n",
              "2  B   300   WA            W    2\n",
              "3  B   300   WA            W    2\n",
              "1  A   200   NY            N    1\n",
              "5  C   500   NV            N    3\n",
              "0  A   100   CA            C    1\n",
              "4  C   400   AK            A    3"
            ]
          },
          "metadata": {
            "tags": []
          },
          "execution_count": 69
        }
      ]
    },
    {
      "cell_type": "code",
      "metadata": {
        "colab": {
          "base_uri": "https://localhost:8080/",
          "height": 172
        },
        "id": "T0KSchnj4Ekf",
        "outputId": "f748606f-bde4-4dfc-a0f9-8a26eb23a08c"
      },
      "source": [
        "features = pd.DataFrame({\"A\" : [1,23,34,45], \"B\" : [365,56,675,7]})\n",
        "pred = pd.DataFrame({\"predications\" : [0,1,1,0]})\n",
        "pd.concat([features , pred] , axis = 1)"
      ],
      "execution_count": null,
      "outputs": [
        {
          "output_type": "execute_result",
          "data": {
            "text/html": [
              "<div>\n",
              "<style scoped>\n",
              "    .dataframe tbody tr th:only-of-type {\n",
              "        vertical-align: middle;\n",
              "    }\n",
              "\n",
              "    .dataframe tbody tr th {\n",
              "        vertical-align: top;\n",
              "    }\n",
              "\n",
              "    .dataframe thead th {\n",
              "        text-align: right;\n",
              "    }\n",
              "</style>\n",
              "<table border=\"1\" class=\"dataframe\">\n",
              "  <thead>\n",
              "    <tr style=\"text-align: right;\">\n",
              "      <th></th>\n",
              "      <th>A</th>\n",
              "      <th>B</th>\n",
              "      <th>predications</th>\n",
              "    </tr>\n",
              "  </thead>\n",
              "  <tbody>\n",
              "    <tr>\n",
              "      <th>0</th>\n",
              "      <td>1</td>\n",
              "      <td>365</td>\n",
              "      <td>0</td>\n",
              "    </tr>\n",
              "    <tr>\n",
              "      <th>1</th>\n",
              "      <td>23</td>\n",
              "      <td>56</td>\n",
              "      <td>1</td>\n",
              "    </tr>\n",
              "    <tr>\n",
              "      <th>2</th>\n",
              "      <td>34</td>\n",
              "      <td>675</td>\n",
              "      <td>1</td>\n",
              "    </tr>\n",
              "    <tr>\n",
              "      <th>3</th>\n",
              "      <td>45</td>\n",
              "      <td>7</td>\n",
              "      <td>0</td>\n",
              "    </tr>\n",
              "  </tbody>\n",
              "</table>\n",
              "</div>"
            ],
            "text/plain": [
              "    A    B  predications\n",
              "0   1  365             0\n",
              "1  23   56             1\n",
              "2  34  675             1\n",
              "3  45    7             0"
            ]
          },
          "metadata": {
            "tags": []
          },
          "execution_count": 76
        }
      ]
    },
    {
      "cell_type": "code",
      "metadata": {
        "colab": {
          "base_uri": "https://localhost:8080/"
        },
        "id": "kb59ChL55kxy",
        "outputId": "31f4034b-4f52-4296-f2ed-b6683391773c"
      },
      "source": [
        "#ONE HOT ENCODING USING PANDAS\n",
        "print(df_one[\"col1\"])\n",
        "print(pd.get_dummies(df_one[\"col1\"]))"
      ],
      "execution_count": null,
      "outputs": [
        {
          "output_type": "stream",
          "text": [
            "0    100\n",
            "1    200\n",
            "2    300\n",
            "3    300\n",
            "4    400\n",
            "5    500\n",
            "Name: col1, dtype: int64\n",
            "   100  200  300  400  500\n",
            "0    1    0    0    0    0\n",
            "1    0    1    0    0    0\n",
            "2    0    0    1    0    0\n",
            "3    0    0    1    0    0\n",
            "4    0    0    0    1    0\n",
            "5    0    0    0    0    1\n"
          ],
          "name": "stdout"
        }
      ]
    }
  ]
}