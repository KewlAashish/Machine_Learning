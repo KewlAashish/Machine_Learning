{
  "nbformat": 4,
  "nbformat_minor": 0,
  "metadata": {
    "colab": {
      "name": "Iris_Classification.ipynb",
      "provenance": [],
      "collapsed_sections": []
    },
    "kernelspec": {
      "name": "python3",
      "display_name": "Python 3"
    },
    "language_info": {
      "name": "python"
    }
  },
  "cells": [
    {
      "cell_type": "markdown",
      "metadata": {
        "id": "VsUsmjwC74zA"
      },
      "source": [
        "**IMPORTING DEPENDENCIES**"
      ]
    },
    {
      "cell_type": "code",
      "metadata": {
        "id": "ZZLnXg6w8N9O"
      },
      "source": [
        "import numpy as np\n",
        "import pandas as pd\n",
        "import matplotlib.pyplot as plt\n",
        "from sklearn.model_selection import train_test_split\n",
        "from sklearn.preprocessing import StandardScaler\n",
        "from sklearn.preprocessing import LabelEncoder\n",
        "from sklearn.tree import DecisionTreeClassifier\n",
        "from sklearn.neighbors import KNeighborsClassifier\n",
        "from sklearn.naive_bayes import GaussianNB\n",
        "from sklearn.ensemble import RandomForestClassifier\n",
        "from sklearn.svm import SVC\n",
        "from sklearn.linear_model import LogisticRegression\n",
        "from sklearn.metrics import confusion_matrix, accuracy_score\n",
        "from sklearn.preprocessing import normalize"
      ],
      "execution_count": 443,
      "outputs": []
    },
    {
      "cell_type": "markdown",
      "metadata": {
        "id": "8taub0YB8VQZ"
      },
      "source": [
        "**LOADING THE DATA**"
      ]
    },
    {
      "cell_type": "code",
      "metadata": {
        "id": "uPQh8R7m8XRl"
      },
      "source": [
        "df = pd.read_csv('iris.data')"
      ],
      "execution_count": 444,
      "outputs": []
    },
    {
      "cell_type": "markdown",
      "metadata": {
        "id": "P4uiOffi8ef1"
      },
      "source": [
        "**CHECKING OUT OUR DATA**"
      ]
    },
    {
      "cell_type": "code",
      "metadata": {
        "colab": {
          "base_uri": "https://localhost:8080/",
          "height": 203
        },
        "id": "UrIIjLv58h4o",
        "outputId": "ff04ad8f-4138-40a4-fc78-88b474c7982b"
      },
      "source": [
        "df.head()"
      ],
      "execution_count": 445,
      "outputs": [
        {
          "output_type": "execute_result",
          "data": {
            "text/html": [
              "<div>\n",
              "<style scoped>\n",
              "    .dataframe tbody tr th:only-of-type {\n",
              "        vertical-align: middle;\n",
              "    }\n",
              "\n",
              "    .dataframe tbody tr th {\n",
              "        vertical-align: top;\n",
              "    }\n",
              "\n",
              "    .dataframe thead th {\n",
              "        text-align: right;\n",
              "    }\n",
              "</style>\n",
              "<table border=\"1\" class=\"dataframe\">\n",
              "  <thead>\n",
              "    <tr style=\"text-align: right;\">\n",
              "      <th></th>\n",
              "      <th>5.1</th>\n",
              "      <th>3.5</th>\n",
              "      <th>1.4</th>\n",
              "      <th>0.2</th>\n",
              "      <th>Iris-setosa</th>\n",
              "    </tr>\n",
              "  </thead>\n",
              "  <tbody>\n",
              "    <tr>\n",
              "      <th>0</th>\n",
              "      <td>4.9</td>\n",
              "      <td>3.0</td>\n",
              "      <td>1.4</td>\n",
              "      <td>0.2</td>\n",
              "      <td>Iris-setosa</td>\n",
              "    </tr>\n",
              "    <tr>\n",
              "      <th>1</th>\n",
              "      <td>4.7</td>\n",
              "      <td>3.2</td>\n",
              "      <td>1.3</td>\n",
              "      <td>0.2</td>\n",
              "      <td>Iris-setosa</td>\n",
              "    </tr>\n",
              "    <tr>\n",
              "      <th>2</th>\n",
              "      <td>4.6</td>\n",
              "      <td>3.1</td>\n",
              "      <td>1.5</td>\n",
              "      <td>0.2</td>\n",
              "      <td>Iris-setosa</td>\n",
              "    </tr>\n",
              "    <tr>\n",
              "      <th>3</th>\n",
              "      <td>5.0</td>\n",
              "      <td>3.6</td>\n",
              "      <td>1.4</td>\n",
              "      <td>0.2</td>\n",
              "      <td>Iris-setosa</td>\n",
              "    </tr>\n",
              "    <tr>\n",
              "      <th>4</th>\n",
              "      <td>5.4</td>\n",
              "      <td>3.9</td>\n",
              "      <td>1.7</td>\n",
              "      <td>0.4</td>\n",
              "      <td>Iris-setosa</td>\n",
              "    </tr>\n",
              "  </tbody>\n",
              "</table>\n",
              "</div>"
            ],
            "text/plain": [
              "   5.1  3.5  1.4  0.2  Iris-setosa\n",
              "0  4.9  3.0  1.4  0.2  Iris-setosa\n",
              "1  4.7  3.2  1.3  0.2  Iris-setosa\n",
              "2  4.6  3.1  1.5  0.2  Iris-setosa\n",
              "3  5.0  3.6  1.4  0.2  Iris-setosa\n",
              "4  5.4  3.9  1.7  0.4  Iris-setosa"
            ]
          },
          "metadata": {},
          "execution_count": 445
        }
      ]
    },
    {
      "cell_type": "markdown",
      "metadata": {
        "id": "nn7x4dZKDYRM"
      },
      "source": [
        "**CHECKING FOR NULL VALUES**"
      ]
    },
    {
      "cell_type": "code",
      "metadata": {
        "colab": {
          "base_uri": "https://localhost:8080/"
        },
        "id": "l9SE5b-FDbbt",
        "outputId": "2791406d-9bb2-4261-e391-2b695a8c0f8b"
      },
      "source": [
        "df.isnull().any().any()"
      ],
      "execution_count": 446,
      "outputs": [
        {
          "output_type": "execute_result",
          "data": {
            "text/plain": [
              "False"
            ]
          },
          "metadata": {},
          "execution_count": 446
        }
      ]
    },
    {
      "cell_type": "markdown",
      "metadata": {
        "id": "ZvfEwewM8uhb"
      },
      "source": [
        "**ADDING COLUMN NAMES**"
      ]
    },
    {
      "cell_type": "code",
      "metadata": {
        "id": "IpdN8BzU8xsT"
      },
      "source": [
        "df.columns = ['field1' , 'field2' , 'field3' , 'field4' , 'type']"
      ],
      "execution_count": 447,
      "outputs": []
    },
    {
      "cell_type": "code",
      "metadata": {
        "colab": {
          "base_uri": "https://localhost:8080/",
          "height": 203
        },
        "id": "L3Tzb7NI9Avu",
        "outputId": "71dffaba-9ef9-468a-e1d0-31b9c7f4cda8"
      },
      "source": [
        "df.head()"
      ],
      "execution_count": 448,
      "outputs": [
        {
          "output_type": "execute_result",
          "data": {
            "text/html": [
              "<div>\n",
              "<style scoped>\n",
              "    .dataframe tbody tr th:only-of-type {\n",
              "        vertical-align: middle;\n",
              "    }\n",
              "\n",
              "    .dataframe tbody tr th {\n",
              "        vertical-align: top;\n",
              "    }\n",
              "\n",
              "    .dataframe thead th {\n",
              "        text-align: right;\n",
              "    }\n",
              "</style>\n",
              "<table border=\"1\" class=\"dataframe\">\n",
              "  <thead>\n",
              "    <tr style=\"text-align: right;\">\n",
              "      <th></th>\n",
              "      <th>field1</th>\n",
              "      <th>field2</th>\n",
              "      <th>field3</th>\n",
              "      <th>field4</th>\n",
              "      <th>type</th>\n",
              "    </tr>\n",
              "  </thead>\n",
              "  <tbody>\n",
              "    <tr>\n",
              "      <th>0</th>\n",
              "      <td>4.9</td>\n",
              "      <td>3.0</td>\n",
              "      <td>1.4</td>\n",
              "      <td>0.2</td>\n",
              "      <td>Iris-setosa</td>\n",
              "    </tr>\n",
              "    <tr>\n",
              "      <th>1</th>\n",
              "      <td>4.7</td>\n",
              "      <td>3.2</td>\n",
              "      <td>1.3</td>\n",
              "      <td>0.2</td>\n",
              "      <td>Iris-setosa</td>\n",
              "    </tr>\n",
              "    <tr>\n",
              "      <th>2</th>\n",
              "      <td>4.6</td>\n",
              "      <td>3.1</td>\n",
              "      <td>1.5</td>\n",
              "      <td>0.2</td>\n",
              "      <td>Iris-setosa</td>\n",
              "    </tr>\n",
              "    <tr>\n",
              "      <th>3</th>\n",
              "      <td>5.0</td>\n",
              "      <td>3.6</td>\n",
              "      <td>1.4</td>\n",
              "      <td>0.2</td>\n",
              "      <td>Iris-setosa</td>\n",
              "    </tr>\n",
              "    <tr>\n",
              "      <th>4</th>\n",
              "      <td>5.4</td>\n",
              "      <td>3.9</td>\n",
              "      <td>1.7</td>\n",
              "      <td>0.4</td>\n",
              "      <td>Iris-setosa</td>\n",
              "    </tr>\n",
              "  </tbody>\n",
              "</table>\n",
              "</div>"
            ],
            "text/plain": [
              "   field1  field2  field3  field4         type\n",
              "0     4.9     3.0     1.4     0.2  Iris-setosa\n",
              "1     4.7     3.2     1.3     0.2  Iris-setosa\n",
              "2     4.6     3.1     1.5     0.2  Iris-setosa\n",
              "3     5.0     3.6     1.4     0.2  Iris-setosa\n",
              "4     5.4     3.9     1.7     0.4  Iris-setosa"
            ]
          },
          "metadata": {},
          "execution_count": 448
        }
      ]
    },
    {
      "cell_type": "markdown",
      "metadata": {
        "id": "8cRpYafj9Fva"
      },
      "source": [
        "SO WE HAVE 4 INDEPENDENT VARIABLES IN OUR DATASET AND 1 INDEPENDENT VARIABLE. SO WE HAVE TO STANDARDISE OUR DATA BUT BEFORE THAT LET'S CHECK IF OUR DATA HAS ANY UNWANTED VALUES"
      ]
    },
    {
      "cell_type": "code",
      "metadata": {
        "colab": {
          "base_uri": "https://localhost:8080/"
        },
        "id": "gzJ_EFK_9T-t",
        "outputId": "7f110c28-0108-4acf-b395-3121bcde240d"
      },
      "source": [
        "df.dtypes"
      ],
      "execution_count": 449,
      "outputs": [
        {
          "output_type": "execute_result",
          "data": {
            "text/plain": [
              "field1    float64\n",
              "field2    float64\n",
              "field3    float64\n",
              "field4    float64\n",
              "type       object\n",
              "dtype: object"
            ]
          },
          "metadata": {},
          "execution_count": 449
        }
      ]
    },
    {
      "cell_type": "code",
      "metadata": {
        "colab": {
          "base_uri": "https://localhost:8080/"
        },
        "id": "w1CyTU5z9gCH",
        "outputId": "ce0b5c01-3da5-4c0b-f87d-423d61fbc4b4"
      },
      "source": [
        "df['type'].unique()"
      ],
      "execution_count": 450,
      "outputs": [
        {
          "output_type": "execute_result",
          "data": {
            "text/plain": [
              "array(['Iris-setosa', 'Iris-versicolor', 'Iris-virginica'], dtype=object)"
            ]
          },
          "metadata": {},
          "execution_count": 450
        }
      ]
    },
    {
      "cell_type": "markdown",
      "metadata": {
        "id": "k4Acnc-Z-UFd"
      },
      "source": [
        "**DEFINING DEPENDENT AND INDEPENDENT VARIABLES**"
      ]
    },
    {
      "cell_type": "code",
      "metadata": {
        "id": "VPP2HJ9p-all"
      },
      "source": [
        "x = df.iloc[: , :-1].values\n",
        "y = df.iloc[: , -1].values"
      ],
      "execution_count": 451,
      "outputs": []
    },
    {
      "cell_type": "markdown",
      "metadata": {
        "id": "X5LvFfdL9mqj"
      },
      "source": [
        "**STANDARDISING OUR DATAFRAME**"
      ]
    },
    {
      "cell_type": "code",
      "metadata": {
        "id": "bc1iztSz9lrx"
      },
      "source": [
        "#x = normalize(x , axis = 0)\n",
        "sc = StandardScaler()\n",
        "x = sc.fit_transform(x)"
      ],
      "execution_count": 452,
      "outputs": []
    },
    {
      "cell_type": "markdown",
      "metadata": {
        "id": "-DDUaIeh_LER"
      },
      "source": [
        "**LABEL ENCODING THE DEPENDENT VARIABLES**"
      ]
    },
    {
      "cell_type": "code",
      "metadata": {
        "id": "nIjTsIE__Pmf"
      },
      "source": [
        "lb = LabelEncoder()\n",
        "y = lb.fit_transform(y)"
      ],
      "execution_count": 453,
      "outputs": []
    },
    {
      "cell_type": "markdown",
      "metadata": {
        "id": "vbQobEBe-y5y"
      },
      "source": [
        "**SPLIT TO TRAIN AND TESTSET**"
      ]
    },
    {
      "cell_type": "code",
      "metadata": {
        "id": "p4TXTCtl-6Vd"
      },
      "source": [
        "x_train , x_test , y_train , y_test = train_test_split(x, y, test_size = 0.1, random_state = 0)"
      ],
      "execution_count": 454,
      "outputs": []
    },
    {
      "cell_type": "markdown",
      "metadata": {
        "id": "4szK-5W4_nSl"
      },
      "source": [
        "**TIME TO TRAIN ON DIFFERENT MODELS AND FIND THE BEST ACCURACY**"
      ]
    },
    {
      "cell_type": "markdown",
      "metadata": {
        "id": "-9hmFQTU_wvS"
      },
      "source": [
        "**MODEL 1 : DECISION TREES**"
      ]
    },
    {
      "cell_type": "code",
      "metadata": {
        "colab": {
          "base_uri": "https://localhost:8080/"
        },
        "id": "pRtiu3Ix_wRo",
        "outputId": "a25d6bfb-950a-4e60-b13c-de9cc308a0d7"
      },
      "source": [
        "model_1 = DecisionTreeClassifier(max_leaf_nodes = 4 , random_state = 0)\n",
        "model_1.fit(x_train, y_train)"
      ],
      "execution_count": 455,
      "outputs": [
        {
          "output_type": "execute_result",
          "data": {
            "text/plain": [
              "DecisionTreeClassifier(ccp_alpha=0.0, class_weight=None, criterion='gini',\n",
              "                       max_depth=None, max_features=None, max_leaf_nodes=4,\n",
              "                       min_impurity_decrease=0.0, min_impurity_split=None,\n",
              "                       min_samples_leaf=1, min_samples_split=2,\n",
              "                       min_weight_fraction_leaf=0.0, presort='deprecated',\n",
              "                       random_state=0, splitter='best')"
            ]
          },
          "metadata": {},
          "execution_count": 455
        }
      ]
    },
    {
      "cell_type": "code",
      "metadata": {
        "id": "7gzjsmMh_vek"
      },
      "source": [
        "y_pred = model_1.predict(x_test)"
      ],
      "execution_count": 456,
      "outputs": []
    },
    {
      "cell_type": "code",
      "metadata": {
        "colab": {
          "base_uri": "https://localhost:8080/"
        },
        "id": "TwUMaK5-AP2y",
        "outputId": "9648450e-0ab6-4e87-a9ed-50c6adbcda5c"
      },
      "source": [
        "cm = confusion_matrix(y_test, y_pred)\n",
        "print(cm)\n",
        "accuracy_score(y_test, y_pred)"
      ],
      "execution_count": 457,
      "outputs": [
        {
          "output_type": "stream",
          "text": [
            "[[5 0 0]\n",
            " [0 5 0]\n",
            " [0 1 4]]\n"
          ],
          "name": "stdout"
        },
        {
          "output_type": "execute_result",
          "data": {
            "text/plain": [
              "0.9333333333333333"
            ]
          },
          "metadata": {},
          "execution_count": 457
        }
      ]
    },
    {
      "cell_type": "markdown",
      "metadata": {
        "id": "KbNlG6F1AV91"
      },
      "source": [
        "**MODEL 2 : K NEAREST NEIGHBOURS**"
      ]
    },
    {
      "cell_type": "code",
      "metadata": {
        "colab": {
          "base_uri": "https://localhost:8080/"
        },
        "id": "OAmJc0YKAZ4S",
        "outputId": "3094e9a7-00fa-4498-ce25-92b593791474"
      },
      "source": [
        "model_2 = KNeighborsClassifier(n_neighbors = 7, metric = 'minkowski', p = 2)\n",
        "model_2.fit(x_train, y_train)"
      ],
      "execution_count": 458,
      "outputs": [
        {
          "output_type": "execute_result",
          "data": {
            "text/plain": [
              "KNeighborsClassifier(algorithm='auto', leaf_size=30, metric='minkowski',\n",
              "                     metric_params=None, n_jobs=None, n_neighbors=7, p=2,\n",
              "                     weights='uniform')"
            ]
          },
          "metadata": {},
          "execution_count": 458
        }
      ]
    },
    {
      "cell_type": "code",
      "metadata": {
        "id": "c1Y88dvmAj7R"
      },
      "source": [
        "y_pred = model_2.predict(x_test)"
      ],
      "execution_count": 459,
      "outputs": []
    },
    {
      "cell_type": "code",
      "metadata": {
        "colab": {
          "base_uri": "https://localhost:8080/"
        },
        "id": "I0DR9e07Ai6V",
        "outputId": "90f78f16-9698-4cfb-b73b-32a11dce9910"
      },
      "source": [
        "cm = confusion_matrix(y_test, y_pred)\n",
        "print(cm)\n",
        "accuracy_score(y_test, y_pred)"
      ],
      "execution_count": 460,
      "outputs": [
        {
          "output_type": "stream",
          "text": [
            "[[5 0 0]\n",
            " [0 5 0]\n",
            " [0 1 4]]\n"
          ],
          "name": "stdout"
        },
        {
          "output_type": "execute_result",
          "data": {
            "text/plain": [
              "0.9333333333333333"
            ]
          },
          "metadata": {},
          "execution_count": 460
        }
      ]
    },
    {
      "cell_type": "markdown",
      "metadata": {
        "id": "Le60shU1A0r3"
      },
      "source": [
        "**MODEL 3 : RANDOM FOREST CLASSIFIER**"
      ]
    },
    {
      "cell_type": "code",
      "metadata": {
        "colab": {
          "base_uri": "https://localhost:8080/"
        },
        "id": "bpHadJXoA87o",
        "outputId": "c5567fae-bcf3-4f18-dcea-7ef73c054c56"
      },
      "source": [
        "model_3 = RandomForestClassifier(n_estimators = 10, criterion = 'entropy', random_state = 0)\n",
        "model_3.fit(x_train, y_train)"
      ],
      "execution_count": 461,
      "outputs": [
        {
          "output_type": "execute_result",
          "data": {
            "text/plain": [
              "RandomForestClassifier(bootstrap=True, ccp_alpha=0.0, class_weight=None,\n",
              "                       criterion='entropy', max_depth=None, max_features='auto',\n",
              "                       max_leaf_nodes=None, max_samples=None,\n",
              "                       min_impurity_decrease=0.0, min_impurity_split=None,\n",
              "                       min_samples_leaf=1, min_samples_split=2,\n",
              "                       min_weight_fraction_leaf=0.0, n_estimators=10,\n",
              "                       n_jobs=None, oob_score=False, random_state=0, verbose=0,\n",
              "                       warm_start=False)"
            ]
          },
          "metadata": {},
          "execution_count": 461
        }
      ]
    },
    {
      "cell_type": "code",
      "metadata": {
        "id": "LbKLMHZ_BCa7"
      },
      "source": [
        "y_pred = model_3.predict(x_test)"
      ],
      "execution_count": 462,
      "outputs": []
    },
    {
      "cell_type": "code",
      "metadata": {
        "colab": {
          "base_uri": "https://localhost:8080/"
        },
        "id": "WNpdS183BD4J",
        "outputId": "b9f67087-9bd0-44ec-b29b-0a50ae5ca0aa"
      },
      "source": [
        "cm = confusion_matrix(y_test, y_pred)\n",
        "print(cm)\n",
        "accuracy_score(y_test, y_pred)"
      ],
      "execution_count": 463,
      "outputs": [
        {
          "output_type": "stream",
          "text": [
            "[[5 0 0]\n",
            " [0 5 0]\n",
            " [0 1 4]]\n"
          ],
          "name": "stdout"
        },
        {
          "output_type": "execute_result",
          "data": {
            "text/plain": [
              "0.9333333333333333"
            ]
          },
          "metadata": {},
          "execution_count": 463
        }
      ]
    },
    {
      "cell_type": "markdown",
      "metadata": {
        "id": "l28pBCMFBdEU"
      },
      "source": [
        "**MODEL 4 : NAIVE BAYES CLASSIFIER**"
      ]
    },
    {
      "cell_type": "code",
      "metadata": {
        "colab": {
          "base_uri": "https://localhost:8080/"
        },
        "id": "VG2VadL-BdEU",
        "outputId": "842f08e5-d07c-43f0-aa91-dc7f34e84e8a"
      },
      "source": [
        "model_4 = GaussianNB()\n",
        "model_4.fit(x_train, y_train)"
      ],
      "execution_count": 464,
      "outputs": [
        {
          "output_type": "execute_result",
          "data": {
            "text/plain": [
              "GaussianNB(priors=None, var_smoothing=1e-09)"
            ]
          },
          "metadata": {},
          "execution_count": 464
        }
      ]
    },
    {
      "cell_type": "code",
      "metadata": {
        "id": "5RFkU0_bBdEV"
      },
      "source": [
        "y_pred = model_4.predict(x_test)"
      ],
      "execution_count": 465,
      "outputs": []
    },
    {
      "cell_type": "code",
      "metadata": {
        "colab": {
          "base_uri": "https://localhost:8080/"
        },
        "id": "x5gUhR-2BdEW",
        "outputId": "8ceae85d-905c-46cb-ca6d-dffa706dcc75"
      },
      "source": [
        "cm = confusion_matrix(y_test, y_pred)\n",
        "print(cm)\n",
        "accuracy_score(y_test, y_pred)"
      ],
      "execution_count": 466,
      "outputs": [
        {
          "output_type": "stream",
          "text": [
            "[[5 0 0]\n",
            " [0 5 0]\n",
            " [0 2 3]]\n"
          ],
          "name": "stdout"
        },
        {
          "output_type": "execute_result",
          "data": {
            "text/plain": [
              "0.8666666666666667"
            ]
          },
          "metadata": {},
          "execution_count": 466
        }
      ]
    },
    {
      "cell_type": "markdown",
      "metadata": {
        "id": "yQqljOVUBx3h"
      },
      "source": [
        "**MODEL 5 : SUPPORT VECTOR MACHINE(LINEAR)**"
      ]
    },
    {
      "cell_type": "code",
      "metadata": {
        "colab": {
          "base_uri": "https://localhost:8080/"
        },
        "id": "9sjpP6WKBx3i",
        "outputId": "a103536d-6a19-4e41-9348-3df7172a66c5"
      },
      "source": [
        "model_5 = SVC(kernel = 'linear', random_state = 0)\n",
        "model_5.fit(x_train, y_train)"
      ],
      "execution_count": 467,
      "outputs": [
        {
          "output_type": "execute_result",
          "data": {
            "text/plain": [
              "SVC(C=1.0, break_ties=False, cache_size=200, class_weight=None, coef0=0.0,\n",
              "    decision_function_shape='ovr', degree=3, gamma='scale', kernel='linear',\n",
              "    max_iter=-1, probability=False, random_state=0, shrinking=True, tol=0.001,\n",
              "    verbose=False)"
            ]
          },
          "metadata": {},
          "execution_count": 467
        }
      ]
    },
    {
      "cell_type": "code",
      "metadata": {
        "id": "bQ8JM-tRBx3j"
      },
      "source": [
        "y_pred = model_5.predict(x_test)"
      ],
      "execution_count": 468,
      "outputs": []
    },
    {
      "cell_type": "code",
      "metadata": {
        "colab": {
          "base_uri": "https://localhost:8080/"
        },
        "id": "qleIt42qBx3k",
        "outputId": "3e146509-1942-43c6-ac9d-591fd5a48990"
      },
      "source": [
        "cm = confusion_matrix(y_test, y_pred)\n",
        "print(cm)\n",
        "accuracy_score(y_test, y_pred)"
      ],
      "execution_count": 469,
      "outputs": [
        {
          "output_type": "stream",
          "text": [
            "[[5 0 0]\n",
            " [0 5 0]\n",
            " [0 1 4]]\n"
          ],
          "name": "stdout"
        },
        {
          "output_type": "execute_result",
          "data": {
            "text/plain": [
              "0.9333333333333333"
            ]
          },
          "metadata": {},
          "execution_count": 469
        }
      ]
    },
    {
      "cell_type": "markdown",
      "metadata": {
        "id": "Un4V7u55CSh2"
      },
      "source": [
        "**MODEL 6 : SUPPORT VECTOR MACHINE(NON LINEAR)**"
      ]
    },
    {
      "cell_type": "code",
      "metadata": {
        "colab": {
          "base_uri": "https://localhost:8080/"
        },
        "id": "URawZ2-sCSh3",
        "outputId": "a97c9581-e774-49b4-f07f-2541894cdf05"
      },
      "source": [
        "model_6 =  SVC(kernel = 'rbf', random_state = 0)\n",
        "model_6.fit(x_train, y_train)"
      ],
      "execution_count": 470,
      "outputs": [
        {
          "output_type": "execute_result",
          "data": {
            "text/plain": [
              "SVC(C=1.0, break_ties=False, cache_size=200, class_weight=None, coef0=0.0,\n",
              "    decision_function_shape='ovr', degree=3, gamma='scale', kernel='rbf',\n",
              "    max_iter=-1, probability=False, random_state=0, shrinking=True, tol=0.001,\n",
              "    verbose=False)"
            ]
          },
          "metadata": {},
          "execution_count": 470
        }
      ]
    },
    {
      "cell_type": "code",
      "metadata": {
        "id": "6gGpizoLCSh4"
      },
      "source": [
        "y_pred = model_6.predict(x_test)"
      ],
      "execution_count": 471,
      "outputs": []
    },
    {
      "cell_type": "code",
      "metadata": {
        "colab": {
          "base_uri": "https://localhost:8080/"
        },
        "id": "9r0RrkINCSh4",
        "outputId": "eb30d212-5d62-4d0c-8931-4ca5b42de47f"
      },
      "source": [
        "cm = confusion_matrix(y_test, y_pred)\n",
        "print(cm)\n",
        "accuracy_score(y_test, y_pred)"
      ],
      "execution_count": 472,
      "outputs": [
        {
          "output_type": "stream",
          "text": [
            "[[5 0 0]\n",
            " [0 5 0]\n",
            " [0 1 4]]\n"
          ],
          "name": "stdout"
        },
        {
          "output_type": "execute_result",
          "data": {
            "text/plain": [
              "0.9333333333333333"
            ]
          },
          "metadata": {},
          "execution_count": 472
        }
      ]
    },
    {
      "cell_type": "markdown",
      "metadata": {
        "id": "YonmvQr6CTa5"
      },
      "source": [
        "**MODEL 7 : LOGISTIC REGRESSION**"
      ]
    },
    {
      "cell_type": "code",
      "metadata": {
        "colab": {
          "base_uri": "https://localhost:8080/"
        },
        "id": "mGDpE-0wCTa6",
        "outputId": "3653dc06-c91c-44a4-a7fa-86ff895ada95"
      },
      "source": [
        "model_7 = LogisticRegression(random_state= 0)\n",
        "model_7.fit(x_train, y_train)"
      ],
      "execution_count": 473,
      "outputs": [
        {
          "output_type": "execute_result",
          "data": {
            "text/plain": [
              "LogisticRegression(C=1.0, class_weight=None, dual=False, fit_intercept=True,\n",
              "                   intercept_scaling=1, l1_ratio=None, max_iter=100,\n",
              "                   multi_class='auto', n_jobs=None, penalty='l2',\n",
              "                   random_state=0, solver='lbfgs', tol=0.0001, verbose=0,\n",
              "                   warm_start=False)"
            ]
          },
          "metadata": {},
          "execution_count": 473
        }
      ]
    },
    {
      "cell_type": "code",
      "metadata": {
        "id": "mPu3YmM_CTa7"
      },
      "source": [
        "y_pred = model_7.predict(x_test)"
      ],
      "execution_count": 474,
      "outputs": []
    },
    {
      "cell_type": "code",
      "metadata": {
        "colab": {
          "base_uri": "https://localhost:8080/"
        },
        "id": "mHGeplFqCTa7",
        "outputId": "be807439-dce1-4c4d-cbba-d8720b68f1fc"
      },
      "source": [
        "cm = confusion_matrix(y_test, y_pred)\n",
        "print(cm)\n",
        "accuracy_score(y_test, y_pred)"
      ],
      "execution_count": 475,
      "outputs": [
        {
          "output_type": "stream",
          "text": [
            "[[5 0 0]\n",
            " [0 5 0]\n",
            " [0 2 3]]\n"
          ],
          "name": "stdout"
        },
        {
          "output_type": "execute_result",
          "data": {
            "text/plain": [
              "0.8666666666666667"
            ]
          },
          "metadata": {},
          "execution_count": 475
        }
      ]
    },
    {
      "cell_type": "markdown",
      "metadata": {
        "id": "PnV-iWFnItu1"
      },
      "source": [
        "**TRYING NEURAL NETWORKS**"
      ]
    },
    {
      "cell_type": "code",
      "metadata": {
        "id": "oAOr8SFOIwwD"
      },
      "source": [
        "import tensorflow as tf\n",
        "from keras.models import Sequential \n",
        "from keras.layers import Dense,Activation,Dropout \n",
        "from keras.utils import np_utils"
      ],
      "execution_count": 479,
      "outputs": []
    },
    {
      "cell_type": "code",
      "metadata": {
        "id": "uLe2byxILZ-2"
      },
      "source": [
        "df=df.iloc[np.random.permutation(len(df))]"
      ],
      "execution_count": 482,
      "outputs": []
    },
    {
      "cell_type": "code",
      "metadata": {
        "id": "xBKHG47fKjCm"
      },
      "source": [
        "df.loc[df[\"type\"]==\"Iris-setosa\",\"type\"]=0\n",
        "df.loc[df[\"type\"]==\"Iris-versicolor\",\"type\"]=1\n",
        "df.loc[df[\"type\"]==\"Iris-virginica\",\"type\"]=2"
      ],
      "execution_count": 483,
      "outputs": []
    },
    {
      "cell_type": "code",
      "metadata": {
        "id": "s_CTDPStLpaT"
      },
      "source": [
        "X=df.iloc[:,:-1].values\n",
        "y=df.iloc[:,-1].values"
      ],
      "execution_count": 487,
      "outputs": []
    },
    {
      "cell_type": "code",
      "metadata": {
        "id": "rrdrklg_JXi5"
      },
      "source": [
        "X_normalized = normalize(X , axis = 0)"
      ],
      "execution_count": 490,
      "outputs": []
    },
    {
      "cell_type": "code",
      "metadata": {
        "id": "r-Roq310L9wh"
      },
      "source": [
        "total_length=len(df)\n",
        "train_length=int(0.8*total_length)\n",
        "test_length=int(0.2*total_length)\n",
        "\n",
        "X_train=X_normalized[:train_length]\n",
        "X_test=X_normalized[train_length:]\n",
        "y_train=y[:train_length]\n",
        "y_test=y[train_length:]"
      ],
      "execution_count": 491,
      "outputs": []
    },
    {
      "cell_type": "code",
      "metadata": {
        "id": "E_CLcFC7NokJ"
      },
      "source": [
        "y_train=np_utils.to_categorical(y_train,num_classes=3)\n",
        "y_test=np_utils.to_categorical(y_test,num_classes=3)"
      ],
      "execution_count": 492,
      "outputs": []
    },
    {
      "cell_type": "code",
      "metadata": {
        "colab": {
          "base_uri": "https://localhost:8080/"
        },
        "id": "Ojznt2EVNulk",
        "outputId": "394c2f01-8038-454b-a20e-8eb1d3dee120"
      },
      "source": [
        "model=Sequential()\n",
        "model.add(Dense(1000,input_dim=4,activation='relu'))\n",
        "model.add(Dense(500,activation='relu'))\n",
        "model.add(Dense(300,activation='relu'))\n",
        "model.add(Dropout(0.2))\n",
        "model.add(Dense(3,activation='softmax'))\n",
        "model.compile(loss='categorical_crossentropy',optimizer='adam',metrics=['accuracy'])\n",
        "model.summary()"
      ],
      "execution_count": 493,
      "outputs": [
        {
          "output_type": "stream",
          "text": [
            "Model: \"sequential\"\n",
            "_________________________________________________________________\n",
            "Layer (type)                 Output Shape              Param #   \n",
            "=================================================================\n",
            "dense (Dense)                (None, 1000)              5000      \n",
            "_________________________________________________________________\n",
            "dense_1 (Dense)              (None, 500)               500500    \n",
            "_________________________________________________________________\n",
            "dense_2 (Dense)              (None, 300)               150300    \n",
            "_________________________________________________________________\n",
            "dropout (Dropout)            (None, 300)               0         \n",
            "_________________________________________________________________\n",
            "dense_3 (Dense)              (None, 3)                 903       \n",
            "=================================================================\n",
            "Total params: 656,703\n",
            "Trainable params: 656,703\n",
            "Non-trainable params: 0\n",
            "_________________________________________________________________\n"
          ],
          "name": "stdout"
        }
      ]
    },
    {
      "cell_type": "code",
      "metadata": {
        "colab": {
          "base_uri": "https://localhost:8080/"
        },
        "id": "bFq8HNwzOQ9v",
        "outputId": "06a7760f-9765-4fb6-a3ba-2624879b1147"
      },
      "source": [
        "model.fit(X_train,y_train,validation_data=(X_test,y_test),batch_size=20,epochs=10,verbose=1)"
      ],
      "execution_count": 494,
      "outputs": [
        {
          "output_type": "stream",
          "text": [
            "Epoch 1/10\n",
            "6/6 [==============================] - 1s 45ms/step - loss: 1.0924 - accuracy: 0.2773 - val_loss: 1.0618 - val_accuracy: 0.4333\n",
            "Epoch 2/10\n",
            "6/6 [==============================] - 0s 12ms/step - loss: 1.0367 - accuracy: 0.7311 - val_loss: 0.9741 - val_accuracy: 0.7000\n",
            "Epoch 3/10\n",
            "6/6 [==============================] - 0s 11ms/step - loss: 0.9142 - accuracy: 0.8235 - val_loss: 0.8068 - val_accuracy: 0.9667\n",
            "Epoch 4/10\n",
            "6/6 [==============================] - 0s 10ms/step - loss: 0.7281 - accuracy: 0.7647 - val_loss: 0.6099 - val_accuracy: 0.8667\n",
            "Epoch 5/10\n",
            "6/6 [==============================] - 0s 12ms/step - loss: 0.5369 - accuracy: 0.8487 - val_loss: 0.4235 - val_accuracy: 0.8667\n",
            "Epoch 6/10\n",
            "6/6 [==============================] - 0s 11ms/step - loss: 0.3827 - accuracy: 0.9496 - val_loss: 0.3242 - val_accuracy: 0.8667\n",
            "Epoch 7/10\n",
            "6/6 [==============================] - 0s 11ms/step - loss: 0.2852 - accuracy: 0.9496 - val_loss: 0.2338 - val_accuracy: 0.9667\n",
            "Epoch 8/10\n",
            "6/6 [==============================] - 0s 15ms/step - loss: 0.2366 - accuracy: 0.9328 - val_loss: 0.2422 - val_accuracy: 0.8667\n",
            "Epoch 9/10\n",
            "6/6 [==============================] - 0s 16ms/step - loss: 0.2287 - accuracy: 0.8824 - val_loss: 0.1965 - val_accuracy: 0.9000\n",
            "Epoch 10/10\n",
            "6/6 [==============================] - 0s 11ms/step - loss: 0.1672 - accuracy: 0.9496 - val_loss: 0.1398 - val_accuracy: 0.9667\n"
          ],
          "name": "stdout"
        },
        {
          "output_type": "execute_result",
          "data": {
            "text/plain": [
              "<keras.callbacks.History at 0x7f2d07b72490>"
            ]
          },
          "metadata": {},
          "execution_count": 494
        }
      ]
    },
    {
      "cell_type": "code",
      "metadata": {
        "colab": {
          "base_uri": "https://localhost:8080/"
        },
        "id": "fafNoR8PO3SY",
        "outputId": "16ed3804-893d-45c9-e105-f61f891f2da3"
      },
      "source": [
        "prediction=model.predict(X_test)\n",
        "length=len(prediction)\n",
        "y_label=np.argmax(y_test,axis=1)\n",
        "predict_label=np.argmax(prediction,axis=1)\n",
        "\n",
        "accuracy=np.sum(y_label==predict_label)/length * 100 \n",
        "print(\"Accuracy of the dataset\",accuracy )"
      ],
      "execution_count": 495,
      "outputs": [
        {
          "output_type": "stream",
          "text": [
            "Accuracy of the dataset 96.66666666666667\n"
          ],
          "name": "stdout"
        }
      ]
    }
  ]
}