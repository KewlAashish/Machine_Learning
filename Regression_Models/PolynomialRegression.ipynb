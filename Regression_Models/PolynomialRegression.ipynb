{
  "nbformat": 4,
  "nbformat_minor": 0,
  "metadata": {
    "colab": {
      "name": "PolynomialRegression.ipynb",
      "provenance": [],
      "collapsed_sections": []
    },
    "kernelspec": {
      "name": "python3",
      "display_name": "Python 3"
    },
    "language_info": {
      "name": "python"
    }
  },
  "cells": [
    {
      "cell_type": "markdown",
      "metadata": {
        "id": "L0HEwd4ctSac"
      },
      "source": [
        "**What is Polynomial Regression?**\n",
        "\n",
        "Polynomial regression is a special case of linear regression where we fit a polynomial equation on the data with a curvilinear relationship between the target variable and the independent variables.\n",
        "\n",
        "In a curvilinear relationship, the value of the target variable changes in a non-uniform manner with respect to the predictor (s)."
      ]
    },
    {
      "cell_type": "markdown",
      "metadata": {
        "id": "3bRmhD6qtisF"
      },
      "source": [
        "In polynomial regression, we have a polynomial equation of degree n represented as: y = a + a1*x + a2*x^2 + a3*x^3 + ... + an*x^n\n",
        "a = bias term\n",
        "a1 , ... , an = weights in the polynomial equation.\n"
      ]
    },
    {
      "cell_type": "markdown",
      "metadata": {
        "id": "pETu5Bt5uPwz"
      },
      "source": [
        "Implementing polynomial regression by creating my own sample dataset.\n",
        "First import the libraries:"
      ]
    },
    {
      "cell_type": "code",
      "metadata": {
        "id": "LAopofKuuOSo"
      },
      "source": [
        "import numpy as np\n",
        "import pandas as pd\n",
        "import matplotlib.pyplot as plt"
      ],
      "execution_count": null,
      "outputs": []
    },
    {
      "cell_type": "markdown",
      "metadata": {
        "id": "_k6q2C_bugfb"
      },
      "source": [
        "Creating sample dataset:"
      ]
    },
    {
      "cell_type": "code",
      "metadata": {
        "id": "ZpI7FydJujjc"
      },
      "source": [
        "np.random.seed(20)\n",
        "x = np.array([0.2,0.25,0.56,0.79]).reshape(-1,1)\n",
        "y = 23 + 5*x + 35*(x**2) + np.array([56,58,79,121]).reshape(-1,1)"
      ],
      "execution_count": null,
      "outputs": []
    },
    {
      "cell_type": "markdown",
      "metadata": {
        "id": "5bZC4rCrvHlw"
      },
      "source": [
        "Visualising the dataset created:"
      ]
    },
    {
      "cell_type": "code",
      "metadata": {
        "colab": {
          "base_uri": "https://localhost:8080/",
          "height": 279
        },
        "id": "lADMAVNVvLk1",
        "outputId": "7a8b3080-053a-4008-abb6-40ae3725be6f"
      },
      "source": [
        "plt.scatter(x,y)\n",
        "plt.xlabel(\"Target\")\n",
        "plt.ylabel(\"Prediction\")\n",
        "plt.show()"
      ],
      "execution_count": null,
      "outputs": [
        {
          "output_type": "display_data",
          "data": {
            "image/png": "[encoded data removed]",
            "text/plain": [
              "<Figure size 432x288 with 1 Axes>"
            ]
          },
          "metadata": {
            "needs_background": "light"
          }
        }
      ]
    },
    {
      "cell_type": "markdown",
      "metadata": {
        "id": "2QySyZ5MyDh_"
      },
      "source": [
        "We can perform linear regression and polynomial regression as well and then will compare both models:"
      ]
    },
    {
      "cell_type": "code",
      "metadata": {
        "id": "_iZgPNjPyNgA"
      },
      "source": [
        "from sklearn.linear_model import LinearRegression\n",
        "lm=LinearRegression()\n",
        "lm.fit(x.reshape(-1,1),y.reshape(-1,1))\n",
        "y_pred = lm.predict(x.reshape(-1,1))"
      ],
      "execution_count": null,
      "outputs": []
    },
    {
      "cell_type": "markdown",
      "metadata": {
        "id": "lgrvjXHzyqeQ"
      },
      "source": [
        "Plotting predictions for linear model:"
      ]
    },
    {
      "cell_type": "code",
      "metadata": {
        "colab": {
          "base_uri": "https://localhost:8080/",
          "height": 339
        },
        "id": "b5TdyAZlyt8q",
        "outputId": "43cdbb7c-c41a-4175-e2ec-b7becb4f91a4"
      },
      "source": [
        "plt.figure(figsize=(10,5))\n",
        "plt.scatter(x,y,s=15)\n",
        "plt.plot(x,y_pred,color='r')\n",
        "plt.xlabel('Input',fontsize=16)\n",
        "plt.ylabel('Prediction',fontsize=16)\n",
        "plt.show()"
      ],
      "execution_count": null,
      "outputs": [
        {
          "output_type": "display_data",
          "data": {
            "image/png": "[encoded data removed]",
            "text/plain": [
              "<Figure size 720x360 with 1 Axes>"
            ]
          },
          "metadata": {
            "needs_background": "light"
          }
        }
      ]
    },
    {
      "cell_type": "markdown",
      "metadata": {
        "id": "Wdf_c8Epy71M"
      },
      "source": [
        "Error Calculation:"
      ]
    },
    {
      "cell_type": "code",
      "metadata": {
        "colab": {
          "base_uri": "https://localhost:8080/"
        },
        "id": "vdwuX_lmy-HR",
        "outputId": "440bc042-506b-4a03-930f-5f347d5877a2"
      },
      "source": [
        "from sklearn.metrics import mean_squared_error, r2_score\n",
        "print('RMSE for Linear Regression=>',np.sqrt(mean_squared_error(y,y_pred)))"
      ],
      "execution_count": null,
      "outputs": [
        {
          "output_type": "stream",
          "text": [
            "RMSE for Linear Regression=> 7.926747502894331\n"
          ],
          "name": "stdout"
        }
      ]
    },
    {
      "cell_type": "markdown",
      "metadata": {
        "id": "SI5BMuknzMK7"
      },
      "source": [
        "Now we'll create a Polynomial model and visualise and predict the results:"
      ]
    },
    {
      "cell_type": "code",
      "metadata": {
        "colab": {
          "base_uri": "https://localhost:8080/"
        },
        "id": "Ikkj61KizVc5",
        "outputId": "8631ab07-979e-45a9-9dab-201881a51f32"
      },
      "source": [
        "from sklearn.preprocessing import PolynomialFeatures\n",
        "poly_reg = PolynomialFeatures(degree = 4)\n",
        "x_poly = poly_reg.fit_transform(x)\n",
        "lin_reg_2 = LinearRegression()\n",
        "lin_reg_2.fit(x_poly, y)"
      ],
      "execution_count": null,
      "outputs": [
        {
          "output_type": "execute_result",
          "data": {
            "text/plain": [
              "LinearRegression(copy_X=True, fit_intercept=True, n_jobs=None, normalize=False)"
            ]
          },
          "metadata": {},
          "execution_count": 57
        }
      ]
    },
    {
      "cell_type": "markdown",
      "metadata": {
        "id": "aEju8SKa3rhe"
      },
      "source": [
        "Visualising the results for polynomial regression:"
      ]
    },
    {
      "cell_type": "code",
      "metadata": {
        "colab": {
          "base_uri": "https://localhost:8080/",
          "height": 295
        },
        "id": "SYnVdxOJ3w0S",
        "outputId": "5ef9f893-28e4-47a3-ba43-b63bb7f933ef"
      },
      "source": [
        "plt.scatter(x, y, color = 'red')\n",
        "plt.plot(x, lin_reg_2.predict(poly_reg.fit_transform(x)), color = 'blue')\n",
        "plt.title('Polynomial Regression')\n",
        "plt.xlabel('Input')\n",
        "plt.ylabel('Prediction')\n",
        "plt.show()"
      ],
      "execution_count": null,
      "outputs": [
        {
          "output_type": "display_data",
          "data": {
            "image/png": "[encoded data removed]",
            "text/plain": [
              "<Figure size 432x288 with 1 Axes>"
            ]
          },
          "metadata": {
            "needs_background": "light"
          }
        }
      ]
    },
    {
      "cell_type": "markdown",
      "metadata": {
        "id": "hd5wd1l15W0K"
      },
      "source": [
        "Predicting results:"
      ]
    },
    {
      "cell_type": "code",
      "metadata": {
        "colab": {
          "base_uri": "https://localhost:8080/"
        },
        "id": "ojZhyvg95af9",
        "outputId": "eb210a0c-e10b-422c-b7b3-b717b5d3bf18"
      },
      "source": [
        "print(lm.predict(([[0.5]])))\n",
        "print(lin_reg_2.predict(poly_reg.fit_transform([[0.5]])))"
      ],
      "execution_count": null,
      "outputs": [
        {
          "output_type": "stream",
          "text": [
            "[[120.06887641]]\n",
            "[[107.12900577]]\n"
          ],
          "name": "stdout"
        }
      ]
    }
  ]
}