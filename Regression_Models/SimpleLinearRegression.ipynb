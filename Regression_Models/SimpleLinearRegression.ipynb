{
  "nbformat": 4,
  "nbformat_minor": 0,
  "metadata": {
    "colab": {
      "name": "SimpleLinearRegression.ipynb",
      "provenance": [],
      "collapsed_sections": []
    },
    "kernelspec": {
      "name": "python3",
      "display_name": "Python 3"
    },
    "language_info": {
      "name": "python"
    }
  },
  "cells": [
    {
      "cell_type": "markdown",
      "metadata": {
        "id": "r9a2qlGNZ9aw"
      },
      "source": [
        "**What is Linear Regression ?**\n",
        "\n",
        "The objective of a linear regression model is to find a relationship between one or more features(independent variables) and a continuous target variable(dependent variable). When there is only feature it is called Uni-variate or Simple Linear Regression and if there are multiple features, it is called Multiple Linear Regression.\n",
        "Source: https://towardsdatascience.com/linear-regression-using-python-b136c91bf0a2"
      ]
    },
    {
      "cell_type": "markdown",
      "metadata": {
        "id": "3k67br5kaHTU"
      },
      "source": [
        "Linear Regression model is represented by : Y = a + a1*x1 + a2*x2 + .. \n",
        "Here a = bias term and a1,a2,a3... are the model parameters."
      ]
    },
    {
      "cell_type": "markdown",
      "metadata": {
        "id": "a1o7LQyKJHD8"
      },
      "source": [
        "**1. IMPLEMENTING USING A RANDOM DATASET CREATED BY ME:**"
      ]
    },
    {
      "cell_type": "markdown",
      "metadata": {
        "id": "IxOWuZbpJjPK"
      },
      "source": [
        "IMPORTING LIBRARIES:"
      ]
    },
    {
      "cell_type": "code",
      "metadata": {
        "id": "mVRG2zvFJmDE"
      },
      "source": [
        "import numpy as np\n",
        "import pandas as pd\n",
        "import matplotlib.pyplot as plt\n",
        "from sklearn.linear_model import LinearRegression\n",
        "from sklearn.metrics import mean_squared_error, r2_score"
      ],
      "execution_count": null,
      "outputs": []
    },
    {
      "cell_type": "markdown",
      "metadata": {
        "id": "OlehFxupJzNx"
      },
      "source": [
        "CREATING RANDOM DATASET:"
      ]
    },
    {
      "cell_type": "code",
      "metadata": {
        "id": "ajbPUEV3J1-M"
      },
      "source": [
        "np.random.seed(21)\n",
        "x = np.random.rand(100 , 1)\n",
        "y = 34 + 3*x + np.random.rand(100 , 1)"
      ],
      "execution_count": null,
      "outputs": []
    },
    {
      "cell_type": "markdown",
      "metadata": {
        "id": "t4uxFUtVKVfr"
      },
      "source": [
        "VIEW OF OUR DATASET USING PLT:"
      ]
    },
    {
      "cell_type": "code",
      "metadata": {
        "colab": {
          "base_uri": "https://localhost:8080/",
          "height": 279
        },
        "id": "3NB8_-nuKYXI",
        "outputId": "143b1197-e5ab-40ea-b800-124ec13a1ed7"
      },
      "source": [
        "plt.scatter(x,y)\n",
        "plt.xlabel(\"X\")\n",
        "plt.ylabel(\"Y\")\n",
        "plt.show()"
      ],
      "execution_count": null,
      "outputs": [
        {
          "output_type": "display_data",
          "data": {
            "image/png": "[encoded data removed]",
            "text/plain": [
              "<Figure size 432x288 with 1 Axes>"
            ]
          },
          "metadata": {
            "needs_background": "light"
          }
        }
      ]
    },
    {
      "cell_type": "markdown",
      "metadata": {
        "id": "hKZJoyZoLOsd"
      },
      "source": [
        "**How to determine the best fit line?**\n",
        "\n",
        "\n",
        "\n",
        "The line for which the the error between the predicted values and the observed values is minimum is called the best fit line or the regression line. These errors are also called as residuals.\n",
        "\n",
        "\n"
      ]
    },
    {
      "cell_type": "markdown",
      "metadata": {
        "id": "HX7IT201Ldez"
      },
      "source": [
        "To define and measure the error of our model we define the cost function as the sum of the squares of the residuals. Our objective is to find the model parameters so that the cost function is minimum. We will use Gradient Descent to find this. "
      ]
    },
    {
      "cell_type": "markdown",
      "metadata": {
        "id": "QH58bzF1Mo7h"
      },
      "source": [
        "Training the model by initializing it."
      ]
    },
    {
      "cell_type": "code",
      "metadata": {
        "colab": {
          "base_uri": "https://localhost:8080/"
        },
        "id": "4kmeGqsnMaFy",
        "outputId": "9a076b24-d42c-41c9-c017-8deca4164d24"
      },
      "source": [
        "Linear_model = LinearRegression()\n",
        "Linear_model.fit(x,y)"
      ],
      "execution_count": null,
      "outputs": [
        {
          "output_type": "execute_result",
          "data": {
            "text/plain": [
              "LinearRegression(copy_X=True, fit_intercept=True, n_jobs=None, normalize=False)"
            ]
          },
          "metadata": {},
          "execution_count": 7
        }
      ]
    },
    {
      "cell_type": "markdown",
      "metadata": {
        "id": "CuXOKZrrNLQJ"
      },
      "source": [
        "Predicting the value using our model:"
      ]
    },
    {
      "cell_type": "code",
      "metadata": {
        "id": "AgesLTdjNPFP"
      },
      "source": [
        "y_predicted = Linear_model.predict(x)"
      ],
      "execution_count": null,
      "outputs": []
    },
    {
      "cell_type": "markdown",
      "metadata": {
        "id": "ZAxvoRsrNgHn"
      },
      "source": [
        "Evaluating the model using rmse and r2:"
      ]
    },
    {
      "cell_type": "code",
      "metadata": {
        "id": "ytTuwgNhNkzR"
      },
      "source": [
        "rmse = mean_squared_error(y , y_predicted)\n",
        "r2 = r2_score(y , y_predicted)"
      ],
      "execution_count": null,
      "outputs": []
    },
    {
      "cell_type": "markdown",
      "metadata": {
        "id": "IJRxqhPaN7Hn"
      },
      "source": [
        "Model Performance:"
      ]
    },
    {
      "cell_type": "code",
      "metadata": {
        "colab": {
          "base_uri": "https://localhost:8080/"
        },
        "id": "dYhO6YntN9KI",
        "outputId": "dfe033fd-d327-4163-a3bb-144567c23a47"
      },
      "source": [
        "print(\"Slope : \" , Linear_model.coef_)\n",
        "print(\"Intercept : \" , Linear_model.intercept_)\n",
        "print(\"RMSE : \" , rmse)\n",
        "print(\"R2 score : \" , r2)"
      ],
      "execution_count": null,
      "outputs": [
        {
          "output_type": "stream",
          "text": [
            "Slope :  [[2.8868369]]\n",
            "Intercept :  [34.55708129]\n",
            "RMSE :  0.08336056772950594\n",
            "R2 score :  0.8809081057580137\n"
          ],
          "name": "stdout"
        }
      ]
    },
    {
      "cell_type": "markdown",
      "metadata": {
        "id": "h4nJOkymOksF"
      },
      "source": [
        "Visualising Results:"
      ]
    },
    {
      "cell_type": "code",
      "metadata": {
        "colab": {
          "base_uri": "https://localhost:8080/",
          "height": 265
        },
        "id": "kacW6oJtOqTD",
        "outputId": "c5a2b710-9df4-4fd1-c77f-00b0afdad1cb"
      },
      "source": [
        "plt.plot(x , y_predicted , color = \"blue\")\n",
        "plt.scatter(x , y , s = 10 , color = \"red\")\n",
        "plt.show()"
      ],
      "execution_count": null,
      "outputs": [
        {
          "output_type": "display_data",
          "data": {
            "image/png": "[encoded data removed]",
            "text/plain": [
              "<Figure size 432x288 with 1 Axes>"
            ]
          },
          "metadata": {
            "needs_background": "light"
          }
        }
      ]
    },
    {
      "cell_type": "markdown",
      "metadata": {
        "id": "N_jF1LaiRIak"
      },
      "source": [
        "Predicting a single value:"
      ]
    },
    {
      "cell_type": "code",
      "metadata": {
        "colab": {
          "base_uri": "https://localhost:8080/"
        },
        "id": "EkRlf_2DRK1F",
        "outputId": "af48619f-7474-4252-e723-6d7b68f362e0"
      },
      "source": [
        "input = np.array([0.58]).reshape(-1,1)\n",
        "print(Linear_model.predict(input))"
      ],
      "execution_count": null,
      "outputs": [
        {
          "output_type": "stream",
          "text": [
            "[[36.23144669]]\n"
          ],
          "name": "stdout"
        }
      ]
    }
  ]
}