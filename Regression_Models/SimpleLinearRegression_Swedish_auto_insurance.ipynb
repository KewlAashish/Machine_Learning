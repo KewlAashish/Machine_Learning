{
  "nbformat": 4,
  "nbformat_minor": 0,
  "metadata": {
    "colab": {
      "name": "SimpleLinearRegression_Swedish_auto_insurance.ipynb",
      "provenance": [],
      "collapsed_sections": []
    },
    "kernelspec": {
      "name": "python3",
      "display_name": "Python 3"
    },
    "language_info": {
      "name": "python"
    }
  },
  "cells": [
    {
      "cell_type": "markdown",
      "metadata": {
        "id": "c-am5UDwThSw"
      },
      "source": [
        "**Implementing Simple Linear Regression on the Swedish auto insuarance dataset**"
      ]
    },
    {
      "cell_type": "markdown",
      "metadata": {
        "id": "rNDXQwewWg16"
      },
      "source": [
        " “Auto Insurance in Sweden” dataset involves predicting the total payment for all the claims in thousands of Swedish Kronor (y) given the total number of claims (x)."
      ]
    },
    {
      "cell_type": "markdown",
      "metadata": {
        "id": "NCvXW9PSWnVn"
      },
      "source": [
        "Importing the libraries:"
      ]
    },
    {
      "cell_type": "code",
      "metadata": {
        "id": "kdXfsYB3TaT0"
      },
      "source": [
        "import pandas as pd\n",
        "import numpy as np\n",
        "import matplotlib.pyplot as plt\n",
        "from sklearn.model_selection import train_test_split\n",
        "from sklearn.linear_model import LinearRegression\n",
        "from sklearn.metrics import mean_squared_error, r2_score"
      ],
      "execution_count": null,
      "outputs": []
    },
    {
      "cell_type": "markdown",
      "metadata": {
        "id": "DEPOi6r1W_2G"
      },
      "source": [
        "importing the dataset:"
      ]
    },
    {
      "cell_type": "markdown",
      "metadata": {
        "id": "jKg2k6NiXNAg"
      },
      "source": [
        "converting the xls file to csv:"
      ]
    },
    {
      "cell_type": "code",
      "metadata": {
        "colab": {
          "base_uri": "https://localhost:8080/"
        },
        "id": "t6WTkXINXCal",
        "outputId": "f5de5b7d-3345-4a5a-f999-0e45548118bb"
      },
      "source": [
        "read_file = pd.read_excel (\"Swedish_auto_insuarance.xls\")\n",
        "\n",
        "read_file.to_csv (\"Swedish_auto_insuarance.csv\", \n",
        "                  index = None,\n",
        "                  header=True)\n",
        "\n",
        "df = pd.read_csv(\"Swedish_auto_insuarance.csv\")"
      ],
      "execution_count": null,
      "outputs": [
        {
          "output_type": "stream",
          "text": [
            "*** No CODEPAGE record, no encoding_override: will use 'ascii'\n"
          ],
          "name": "stdout"
        }
      ]
    },
    {
      "cell_type": "markdown",
      "metadata": {
        "id": "VZCX_KIIX6Bx"
      },
      "source": [
        "Creating our test and training dataset:"
      ]
    },
    {
      "cell_type": "code",
      "metadata": {
        "id": "ERfitv4RYBnv"
      },
      "source": [
        "x = df.iloc[: , 0].values\n",
        "x = x.reshape(-1,1)\n",
        "y = df.iloc[: , -1].values"
      ],
      "execution_count": null,
      "outputs": []
    },
    {
      "cell_type": "code",
      "metadata": {
        "id": "hM_jLcKFYopc"
      },
      "source": [
        "x_train , x_test , y_train , y_test = train_test_split(x , y , test_size = 0.2 , random_state = 0)"
      ],
      "execution_count": null,
      "outputs": []
    },
    {
      "cell_type": "markdown",
      "metadata": {
        "id": "Z8UmhS-0X0ke"
      },
      "source": [
        "Visualising our dataset:"
      ]
    },
    {
      "cell_type": "code",
      "metadata": {
        "colab": {
          "base_uri": "https://localhost:8080/",
          "height": 265
        },
        "id": "nPYCOamaX3cq",
        "outputId": "a31f5ffc-3149-4822-a34e-51b5d09dfa94"
      },
      "source": [
        "plt.scatter(x , y , s = 10)\n",
        "plt.show()"
      ],
      "execution_count": null,
      "outputs": [
        {
          "output_type": "display_data",
          "data": {
            "image/png": "[encoded data removed]",
            "text/plain": [
              "<Figure size 432x288 with 1 Axes>"
            ]
          },
          "metadata": {
            "needs_background": "light"
          }
        }
      ]
    },
    {
      "cell_type": "markdown",
      "metadata": {
        "id": "PjlXjKOgZYSY"
      },
      "source": [
        "Training the model on training dataset : "
      ]
    },
    {
      "cell_type": "code",
      "metadata": {
        "colab": {
          "base_uri": "https://localhost:8080/"
        },
        "id": "CF49RNezZcbL",
        "outputId": "f6bcaaec-7d10-4154-de47-840c59427300"
      },
      "source": [
        "model = LinearRegression()\n",
        "model.fit(x_train,y_train)"
      ],
      "execution_count": null,
      "outputs": [
        {
          "output_type": "execute_result",
          "data": {
            "text/plain": [
              "LinearRegression(copy_X=True, fit_intercept=True, n_jobs=None, normalize=False)"
            ]
          },
          "metadata": {},
          "execution_count": 19
        }
      ]
    },
    {
      "cell_type": "markdown",
      "metadata": {
        "id": "huiyGxnqaIE1"
      },
      "source": [
        "Predicting the results of test dataset:"
      ]
    },
    {
      "cell_type": "code",
      "metadata": {
        "colab": {
          "base_uri": "https://localhost:8080/"
        },
        "id": "nLSnncalaMWm",
        "outputId": "a7f9e757-2024-4601-ca18-84be3435d943"
      },
      "source": [
        "y_pred = model.predict(x_test)\n",
        "print(np.concatenate((y_pred.reshape(len(y_pred),1), y_test.reshape(len(y_test),1)),1))"
      ],
      "execution_count": null,
      "outputs": [
        {
          "output_type": "stream",
          "text": [
            "[[143.1010426  152.8       ]\n",
            " [ 29.32423331  39.9       ]\n",
            " [106.29089842 187.5       ]\n",
            " [ 62.78800075  93.        ]\n",
            " [ 39.36336354  14.6       ]\n",
            " [ 92.90539144 161.5       ]\n",
            " [ 32.67061005  38.1       ]\n",
            " [ 56.09524726  21.3       ]\n",
            " [179.91118678 248.1       ]\n",
            " [ 62.78800075  15.7       ]\n",
            " [ 32.67061005  11.8       ]\n",
            " [ 66.13437749  95.5       ]\n",
            " [153.14017283 119.4       ]]\n"
          ],
          "name": "stdout"
        }
      ]
    },
    {
      "cell_type": "markdown",
      "metadata": {
        "id": "aOR_0ie9ah_R"
      },
      "source": [
        "Visualising the results : "
      ]
    },
    {
      "cell_type": "code",
      "metadata": {
        "colab": {
          "base_uri": "https://localhost:8080/",
          "height": 265
        },
        "id": "OWJm4eroakwC",
        "outputId": "f7633728-3ea8-44d2-afe4-3dc85c1a5c7e"
      },
      "source": [
        "plt.plot(x_test , y_pred , color = \"blue\")\n",
        "plt.scatter(x_train , y_train , color = \"red\")\n",
        "plt.show()"
      ],
      "execution_count": null,
      "outputs": [
        {
          "output_type": "display_data",
          "data": {
            "image/png": "[encoded data removed]",
            "text/plain": [
              "<Figure size 432x288 with 1 Axes>"
            ]
          },
          "metadata": {
            "needs_background": "light"
          }
        }
      ]
    },
    {
      "cell_type": "markdown",
      "metadata": {
        "id": "MkNpbGzHbBRy"
      },
      "source": [
        "Predicting the result:"
      ]
    },
    {
      "cell_type": "code",
      "metadata": {
        "colab": {
          "base_uri": "https://localhost:8080/"
        },
        "id": "TUDe-0gFbDnH",
        "outputId": "27103d70-645e-4fd6-b725-d943feaf451d"
      },
      "source": [
        "input = np.array([10]).reshape(-1,1)\n",
        "print(model.predict(input))"
      ],
      "execution_count": null,
      "outputs": [
        {
          "output_type": "stream",
          "text": [
            "[52.74887052]\n"
          ],
          "name": "stdout"
        }
      ]
    },
    {
      "cell_type": "markdown",
      "metadata": {
        "id": "35f-ntLebeSo"
      },
      "source": [
        "Evaluating the model performance and his parameters:"
      ]
    },
    {
      "cell_type": "code",
      "metadata": {
        "colab": {
          "base_uri": "https://localhost:8080/"
        },
        "id": "qOaZr_nkblXO",
        "outputId": "ba807526-f2cf-4bdc-b7ec-ce6a6fea0ba0"
      },
      "source": [
        "rmse = mean_squared_error(y_test , y_pred)\n",
        "r2 = r2_score(y_test , y_pred)\n",
        "print(\"Slope : \" , model.coef_)\n",
        "print(\"Intercept : \" , model.intercept_)\n",
        "print(\"RMSE : \" , rmse)\n",
        "print(\"R2 score : \" , r2)"
      ],
      "execution_count": null,
      "outputs": [
        {
          "output_type": "stream",
          "text": [
            "Slope :  [3.34637674]\n",
            "Intercept :  19.285103078189863\n",
            "RMSE :  1813.5036286855975\n",
            "R2 score :  0.6709172184615007\n"
          ],
          "name": "stdout"
        }
      ]
    }
  ]
}