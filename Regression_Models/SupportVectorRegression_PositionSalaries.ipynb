{
  "nbformat": 4,
  "nbformat_minor": 0,
  "metadata": {
    "colab": {
      "name": "SupportVectorRegression_PositionSalaries.ipynb",
      "provenance": [],
      "collapsed_sections": []
    },
    "kernelspec": {
      "name": "python3",
      "display_name": "Python 3"
    },
    "language_info": {
      "name": "python"
    }
  },
  "cells": [
    {
      "cell_type": "markdown",
      "metadata": {
        "id": "R2g-i8cWVn1P"
      },
      "source": [
        "**Support Vector Regression**\n",
        "\n",
        "Support Vector Regression (SVR) uses the same principle as SVM, but for regression problems. Let’s spend a few minutes understanding the idea behind SVR.\n",
        " \n",
        "The Idea Behind Support Vector Regression\n",
        "The problem of regression is to find a function that approximates mapping from an input domain to real numbers on the basis of a training sample. So let’s now dive deep and understand how SVR works actually.\n",
        "\n",
        "Support Vector Regression\n",
        "\n",
        "![image.png](data:image/png;base64,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)\n",
        "\n",
        "Consider these two red lines as the decision boundary and the green line as the hyperplane. Our objective, when we are moving on with SVR, is to basically consider the points that are within the decision boundary line. Our best fit line is the hyperplane that has a maximum number of points.\n",
        "\n",
        "The first thing that we’ll understand is what is the decision boundary (the danger red line above!). Consider these lines as being at any distance, say ‘a’, from the hyperplane. So, these are the lines that we draw at distance ‘+a’ and ‘-a’ from the hyperplane. This ‘a’ in the text is basically referred to as epsilon.\n",
        "\n",
        "Assuming that the equation of the hyperplane is as follows:\n",
        "\n",
        "Y = wx+b (equation of hyperplane)\n",
        "Then the equations of decision boundary become:\n",
        "\n",
        "wx+b= +a\n",
        "\n",
        "wx+b= -a\n",
        "\n",
        "Thus, any hyperplane that satisfies our SVR should satisfy:\n",
        "\n",
        "-a < Y- wx+b < +a \n",
        "\n",
        "Our main aim here is to decide a decision boundary at ‘a’ distance from the original hyperplane such that data points closest to the hyperplane or the support vectors are within that boundary line.\n",
        "\n",
        "Hence, we are going to take only those points that are within the decision boundary and have the least error rate, or are within the Margin of Tolerance. This gives us a better fitting model.\n"
      ]
    },
    {
      "cell_type": "markdown",
      "metadata": {
        "id": "EJecd0lDX-pQ"
      },
      "source": [
        "IMPORTING THE LIBRARIES"
      ]
    },
    {
      "cell_type": "code",
      "metadata": {
        "id": "b-e3qKvmZ1dd"
      },
      "source": [
        "import numpy as np\n",
        "import matplotlib.pyplot as plt\n",
        "import pandas as pd\n",
        "from sklearn.preprocessing import StandardScaler\n",
        "from sklearn.svm import SVR"
      ],
      "execution_count": 4,
      "outputs": []
    },
    {
      "cell_type": "markdown",
      "metadata": {
        "id": "KvoixxZNZd6L"
      },
      "source": [
        "IMPORTING THE DATASET:"
      ]
    },
    {
      "cell_type": "code",
      "metadata": {
        "id": "IXL971hbZ-1D"
      },
      "source": [
        "DF = pd.read_csv('Position_Salaries.csv')\n",
        "X = DF.iloc[:, 1:-1].values\n",
        "y = DF.iloc[:, -1].values.reshape(-1,1)"
      ],
      "execution_count": 5,
      "outputs": []
    },
    {
      "cell_type": "markdown",
      "metadata": {
        "id": "_ncePg4QZh7j"
      },
      "source": [
        "FEATURE SCALING"
      ]
    },
    {
      "cell_type": "code",
      "metadata": {
        "id": "ZtuI0A_MaCCK"
      },
      "source": [
        "sc_X = StandardScaler()\n",
        "sc_y = StandardScaler()\n",
        "X = sc_X.fit_transform(X)\n",
        "y = sc_y.fit_transform(y)"
      ],
      "execution_count": 6,
      "outputs": []
    },
    {
      "cell_type": "markdown",
      "metadata": {
        "id": "qeOCosDjZjrT"
      },
      "source": [
        "TRAINING THE SVR ON THE WHOLE DATASET"
      ]
    },
    {
      "cell_type": "code",
      "metadata": {
        "colab": {
          "base_uri": "https://localhost:8080/"
        },
        "id": "68qEY6sZa7J9",
        "outputId": "62eeaa6e-c867-46dc-c852-0eebefb0e058"
      },
      "source": [
        "model = SVR(kernel = 'rbf')\n",
        "model.fit(X, y)"
      ],
      "execution_count": 7,
      "outputs": [
        {
          "output_type": "stream",
          "text": [
            "/usr/local/lib/python3.7/dist-packages/sklearn/utils/validation.py:760: DataConversionWarning: A column-vector y was passed when a 1d array was expected. Please change the shape of y to (n_samples, ), for example using ravel().\n",
            "  y = column_or_1d(y, warn=True)\n"
          ],
          "name": "stderr"
        },
        {
          "output_type": "execute_result",
          "data": {
            "text/plain": [
              "SVR(C=1.0, cache_size=200, coef0=0.0, degree=3, epsilon=0.1, gamma='scale',\n",
              "    kernel='rbf', max_iter=-1, shrinking=True, tol=0.001, verbose=False)"
            ]
          },
          "metadata": {},
          "execution_count": 7
        }
      ]
    },
    {
      "cell_type": "markdown",
      "metadata": {
        "id": "ODavoo3bZo56"
      },
      "source": [
        "PREDICTING RESULTS:"
      ]
    },
    {
      "cell_type": "code",
      "metadata": {
        "colab": {
          "base_uri": "https://localhost:8080/"
        },
        "id": "wtO1mfHEbqyn",
        "outputId": "a1dc125e-83aa-4645-c331-a57f80fa0d4e"
      },
      "source": [
        "sc_y.inverse_transform(model.predict(sc_X.transform([[6.5]])))"
      ],
      "execution_count": 8,
      "outputs": [
        {
          "output_type": "execute_result",
          "data": {
            "text/plain": [
              "array([170370.0204065])"
            ]
          },
          "metadata": {},
          "execution_count": 8
        }
      ]
    },
    {
      "cell_type": "markdown",
      "metadata": {
        "id": "QGya6gXyZuux"
      },
      "source": [
        "VISUALISING THE RESULTS:"
      ]
    },
    {
      "cell_type": "code",
      "metadata": {
        "colab": {
          "base_uri": "https://localhost:8080/",
          "height": 295
        },
        "id": "hG3Xmdvibtqn",
        "outputId": "52d5e262-3274-45d8-806c-c7eaa84a7413"
      },
      "source": [
        "plt.scatter(sc_X.inverse_transform(X), sc_y.inverse_transform(y), color = 'red')\n",
        "plt.plot(sc_X.inverse_transform(X), sc_y.inverse_transform(model.predict(X)), color = 'blue')\n",
        "plt.title('Truth or Bluff (SVR)')\n",
        "plt.xlabel('Position level')\n",
        "plt.ylabel('Salary')\n",
        "plt.show()"
      ],
      "execution_count": 9,
      "outputs": [
        {
          "output_type": "display_data",
          "data": {
            "image/png": "[encoded data removed]",
            "text/plain": [
              "<Figure size 432x288 with 1 Axes>"
            ]
          },
          "metadata": {
            "needs_background": "light"
          }
        }
      ]
    },
    {
      "cell_type": "code",
      "metadata": {
        "colab": {
          "base_uri": "https://localhost:8080/",
          "height": 295
        },
        "id": "ewUPbUQHcIH1",
        "outputId": "9a7b0385-3972-445a-85ed-cbc709a26428"
      },
      "source": [
        "X_grid = np.arange(min(sc_X.inverse_transform(X)), max(sc_X.inverse_transform(X)), 0.1)\n",
        "X_grid = X_grid.reshape((len(X_grid), 1))\n",
        "plt.scatter(sc_X.inverse_transform(X), sc_y.inverse_transform(y), color = 'red')\n",
        "plt.plot(X_grid, sc_y.inverse_transform(model.predict(sc_X.transform(X_grid))), color = 'blue')\n",
        "plt.title('Truth or Bluff (SVR)')\n",
        "plt.xlabel('Position level')\n",
        "plt.ylabel('Salary')\n",
        "plt.show()"
      ],
      "execution_count": 10,
      "outputs": [
        {
          "output_type": "display_data",
          "data": {
            "image/png": "[encoded data removed]",
            "text/plain": [
              "<Figure size 432x288 with 1 Axes>"
            ]
          },
          "metadata": {
            "needs_background": "light"
          }
        }
      ]
    }
  ]
}