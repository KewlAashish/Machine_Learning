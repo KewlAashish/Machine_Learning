{
  "nbformat": 4,
  "nbformat_minor": 0,
  "metadata": {
    "colab": {
      "name": "RandomForestRegression.ipynb",
      "provenance": [],
      "collapsed_sections": []
    },
    "kernelspec": {
      "name": "python3",
      "display_name": "Python 3"
    },
    "language_info": {
      "name": "python"
    }
  },
  "cells": [
    {
      "cell_type": "markdown",
      "metadata": {
        "id": "iAaFvQdCqMwu"
      },
      "source": [
        "**RANDOM FOREST REGRESSION**\n",
        "\n",
        "Every decision tree has high variance, but when we combine all of them together in parallel then the resultant variance is low as each decision tree gets perfectly trained on that particular sample data and hence the output doesn’t depend on one decision tree but multiple decision trees. In the case of a classification problem, the final output is taken by using the majority voting classifier. In the case of a regression problem, the final output is the mean of all the outputs. This part is Aggregation.\n",
        "\n",
        "We need to approach the Random Forest regression technique like any other machine learning technique\n",
        "\n",
        "Design a specific question or data and get the source to determine the required data.\n",
        "\n",
        "Make sure the data is in an accessible format else convert it to the required format.\n",
        "\n",
        "Specify all noticeable anomalies and missing data points that may be required to achieve the required data.\n",
        "\n",
        "Create a machine learning model\n",
        "Set the baseline model that you want to achieve\n",
        "Train the data machine learning model.\n",
        "\n",
        "Provide an insight into the model with test data\n",
        "Now compare the performance metrics of both the test data and the predicted data from the model.\n",
        "\n",
        "If it doesn’t satisfy your expectations, you can try improving your model accordingly or dating your data or use another data modeling technique.\n",
        "\n",
        "At this stage you interpret the data you have gained and report accordingly."
      ]
    },
    {
      "cell_type": "markdown",
      "metadata": {
        "id": "cmgCPDGkr0-J"
      },
      "source": [
        "IMPORTING ALL THE LIBRARIES:"
      ]
    },
    {
      "cell_type": "code",
      "metadata": {
        "id": "ytmipBMusHGv"
      },
      "source": [
        "import numpy as np\n",
        "import matplotlib.pyplot as plt\n",
        "import pandas as pd\n",
        "from sklearn.ensemble import RandomForestRegressor"
      ],
      "execution_count": 1,
      "outputs": []
    },
    {
      "cell_type": "markdown",
      "metadata": {
        "id": "RLEuaYyQr3p6"
      },
      "source": [
        "IMPORTING THE DATASET:"
      ]
    },
    {
      "cell_type": "code",
      "metadata": {
        "id": "3Ti6azkssQux"
      },
      "source": [
        "dataset = pd.read_csv('Position_Salaries.csv')\n",
        "x = dataset.iloc[:, 1:-1].values\n",
        "y = dataset.iloc[:, -1].values"
      ],
      "execution_count": 2,
      "outputs": []
    },
    {
      "cell_type": "markdown",
      "metadata": {
        "id": "FP4CTA_8r6Dm"
      },
      "source": [
        "TRAINING THE RANDOM FOREST REGRESSION MODEL ON THE DATASET:"
      ]
    },
    {
      "cell_type": "code",
      "metadata": {
        "colab": {
          "base_uri": "https://localhost:8080/"
        },
        "id": "njpllqBnsk6j",
        "outputId": "2910fdd7-b8a3-4c0d-f976-4e92fe8294b3"
      },
      "source": [
        "model = RandomForestRegressor(n_estimators = 10, random_state = 0)\n",
        "model.fit(x, y)"
      ],
      "execution_count": 3,
      "outputs": [
        {
          "output_type": "execute_result",
          "data": {
            "text/plain": [
              "RandomForestRegressor(bootstrap=True, ccp_alpha=0.0, criterion='mse',\n",
              "                      max_depth=None, max_features='auto', max_leaf_nodes=None,\n",
              "                      max_samples=None, min_impurity_decrease=0.0,\n",
              "                      min_impurity_split=None, min_samples_leaf=1,\n",
              "                      min_samples_split=2, min_weight_fraction_leaf=0.0,\n",
              "                      n_estimators=10, n_jobs=None, oob_score=False,\n",
              "                      random_state=0, verbose=0, warm_start=False)"
            ]
          },
          "metadata": {},
          "execution_count": 3
        }
      ]
    },
    {
      "cell_type": "markdown",
      "metadata": {
        "id": "UZFtCsKHsAdV"
      },
      "source": [
        "PREDICT NEW RESULT:"
      ]
    },
    {
      "cell_type": "code",
      "metadata": {
        "colab": {
          "base_uri": "https://localhost:8080/"
        },
        "id": "_GhAnq9Usq_d",
        "outputId": "037832ea-ea18-44bd-a542-ad1a57a794c2"
      },
      "source": [
        "model.predict([[6.5]])"
      ],
      "execution_count": 4,
      "outputs": [
        {
          "output_type": "execute_result",
          "data": {
            "text/plain": [
              "array([167000.])"
            ]
          },
          "metadata": {},
          "execution_count": 4
        }
      ]
    },
    {
      "cell_type": "markdown",
      "metadata": {
        "id": "dJ-bUsL3sEhC"
      },
      "source": [
        "VISUALISE THE RESULTS:"
      ]
    },
    {
      "cell_type": "code",
      "metadata": {
        "colab": {
          "base_uri": "https://localhost:8080/",
          "height": 295
        },
        "id": "SVsYgDYmsuog",
        "outputId": "b5321f62-b0bd-41ca-8645-b0ae40aa7c41"
      },
      "source": [
        "X_grid = np.arange(min(x), max(x), 0.01)\n",
        "X_grid = X_grid.reshape((len(X_grid), 1))\n",
        "plt.scatter(x, y, color = 'blue')\n",
        "plt.plot(X_grid, model.predict(X_grid), color = 'yellow')\n",
        "plt.title('Truth or Bluff (Random Forest Regression)')\n",
        "plt.xlabel('Position level')\n",
        "plt.ylabel('Salary')\n",
        "plt.show()"
      ],
      "execution_count": 6,
      "outputs": [
        {
          "output_type": "display_data",
          "data": {
            "image/png": "[encoded data removed]",
            "text/plain": [
              "<Figure size 432x288 with 1 Axes>"
            ]
          },
          "metadata": {
            "needs_background": "light"
          }
        }
      ]
    }
  ]
}